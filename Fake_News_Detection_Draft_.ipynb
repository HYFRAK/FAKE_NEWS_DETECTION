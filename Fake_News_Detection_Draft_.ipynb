{
  "nbformat": 4,
  "nbformat_minor": 0,
  "metadata": {
    "kernelspec": {
      "display_name": "Python 3",
      "language": "python",
      "name": "python3"
    },
    "language_info": {
      "codemirror_mode": {
        "name": "ipython",
        "version": 3
      },
      "file_extension": ".py",
      "mimetype": "text/x-python",
      "name": "python",
      "nbconvert_exporter": "python",
      "pygments_lexer": "ipython3",
      "version": "3.8.5"
    },
    "colab": {
      "name": "Fake_News_Detection Draft_.ipynb",
      "provenance": []
    }
  },
  "cells": [
    {
      "cell_type": "code",
      "metadata": {
        "colab": {
          "base_uri": "https://localhost:8080/"
        },
        "id": "lnqgIkyTBdFz",
        "outputId": "e88af774-b308-4cdc-e452-13930b47328a"
      },
      "source": [
        "import os\n",
        "os.environ['KAGGLE_USERNAME'] = \"hyfrakstraszhegde\"\n",
        "os.environ['KAGGLE_KEY'] = \"5bd3242f7e38c1b9f89db937bca48276\"\n",
        "!kaggle datasets download -d clmentbisaillon/fake-and-real-news-dataset"
      ],
      "execution_count": null,
      "outputs": [
        {
          "output_type": "stream",
          "text": [
            "Downloading fake-and-real-news-dataset.zip to /content\n",
            " 88% 36.0M/41.0M [00:00<00:00, 59.7MB/s]\n",
            "100% 41.0M/41.0M [00:00<00:00, 118MB/s] \n"
          ],
          "name": "stdout"
        }
      ]
    },
    {
      "cell_type": "code",
      "metadata": {
        "colab": {
          "base_uri": "https://localhost:8080/"
        },
        "id": "7-vUxvhzBh6H",
        "outputId": "17d3dbbe-2c12-4bbe-ad28-458614f353ab"
      },
      "source": [
        "!unzip fake-and-real-news-dataset.zip"
      ],
      "execution_count": null,
      "outputs": [
        {
          "output_type": "stream",
          "text": [
            "Archive:  fake-and-real-news-dataset.zip\n",
            "  inflating: Fake.csv                \n",
            "  inflating: True.csv                \n"
          ],
          "name": "stdout"
        }
      ]
    },
    {
      "cell_type": "code",
      "metadata": {
        "id": "rTX8tjLvBU1f"
      },
      "source": [
        "import numpy as np\n",
        "import pandas as pd\n",
        "import itertools\n",
        "from sklearn.model_selection import train_test_split\n",
        "from sklearn.feature_extraction.text import TfidfVectorizer\n",
        "from sklearn.linear_model import PassiveAggressiveClassifier\n",
        "from sklearn.metrics import accuracy_score, confusion_matrix"
      ],
      "execution_count": null,
      "outputs": []
    },
    {
      "cell_type": "code",
      "metadata": {
        "colab": {
          "base_uri": "https://localhost:8080/",
          "height": 589
        },
        "id": "lFW62pP6BU1j",
        "outputId": "32863f38-9928-4dcd-d61f-5334dd57c9b6"
      },
      "source": [
        "f = pd.read_csv(\"/content/Fake.csv\")\n",
        "f.insert(4, 'label', \"FAKE\")\n",
        "f"
      ],
      "execution_count": null,
      "outputs": [
        {
          "output_type": "execute_result",
          "data": {
            "text/html": [
              "<div>\n",
              "<style scoped>\n",
              "    .dataframe tbody tr th:only-of-type {\n",
              "        vertical-align: middle;\n",
              "    }\n",
              "\n",
              "    .dataframe tbody tr th {\n",
              "        vertical-align: top;\n",
              "    }\n",
              "\n",
              "    .dataframe thead th {\n",
              "        text-align: right;\n",
              "    }\n",
              "</style>\n",
              "<table border=\"1\" class=\"dataframe\">\n",
              "  <thead>\n",
              "    <tr style=\"text-align: right;\">\n",
              "      <th></th>\n",
              "      <th>title</th>\n",
              "      <th>text</th>\n",
              "      <th>subject</th>\n",
              "      <th>date</th>\n",
              "      <th>label</th>\n",
              "    </tr>\n",
              "  </thead>\n",
              "  <tbody>\n",
              "    <tr>\n",
              "      <th>0</th>\n",
              "      <td>Donald Trump Sends Out Embarrassing New Year’...</td>\n",
              "      <td>Donald Trump just couldn t wish all Americans ...</td>\n",
              "      <td>News</td>\n",
              "      <td>December 31, 2017</td>\n",
              "      <td>FAKE</td>\n",
              "    </tr>\n",
              "    <tr>\n",
              "      <th>1</th>\n",
              "      <td>Drunk Bragging Trump Staffer Started Russian ...</td>\n",
              "      <td>House Intelligence Committee Chairman Devin Nu...</td>\n",
              "      <td>News</td>\n",
              "      <td>December 31, 2017</td>\n",
              "      <td>FAKE</td>\n",
              "    </tr>\n",
              "    <tr>\n",
              "      <th>2</th>\n",
              "      <td>Sheriff David Clarke Becomes An Internet Joke...</td>\n",
              "      <td>On Friday, it was revealed that former Milwauk...</td>\n",
              "      <td>News</td>\n",
              "      <td>December 30, 2017</td>\n",
              "      <td>FAKE</td>\n",
              "    </tr>\n",
              "    <tr>\n",
              "      <th>3</th>\n",
              "      <td>Trump Is So Obsessed He Even Has Obama’s Name...</td>\n",
              "      <td>On Christmas day, Donald Trump announced that ...</td>\n",
              "      <td>News</td>\n",
              "      <td>December 29, 2017</td>\n",
              "      <td>FAKE</td>\n",
              "    </tr>\n",
              "    <tr>\n",
              "      <th>4</th>\n",
              "      <td>Pope Francis Just Called Out Donald Trump Dur...</td>\n",
              "      <td>Pope Francis used his annual Christmas Day mes...</td>\n",
              "      <td>News</td>\n",
              "      <td>December 25, 2017</td>\n",
              "      <td>FAKE</td>\n",
              "    </tr>\n",
              "    <tr>\n",
              "      <th>...</th>\n",
              "      <td>...</td>\n",
              "      <td>...</td>\n",
              "      <td>...</td>\n",
              "      <td>...</td>\n",
              "      <td>...</td>\n",
              "    </tr>\n",
              "    <tr>\n",
              "      <th>23476</th>\n",
              "      <td>McPain: John McCain Furious That Iran Treated ...</td>\n",
              "      <td>21st Century Wire says As 21WIRE reported earl...</td>\n",
              "      <td>Middle-east</td>\n",
              "      <td>January 16, 2016</td>\n",
              "      <td>FAKE</td>\n",
              "    </tr>\n",
              "    <tr>\n",
              "      <th>23477</th>\n",
              "      <td>JUSTICE? Yahoo Settles E-mail Privacy Class-ac...</td>\n",
              "      <td>21st Century Wire says It s a familiar theme. ...</td>\n",
              "      <td>Middle-east</td>\n",
              "      <td>January 16, 2016</td>\n",
              "      <td>FAKE</td>\n",
              "    </tr>\n",
              "    <tr>\n",
              "      <th>23478</th>\n",
              "      <td>Sunnistan: US and Allied ‘Safe Zone’ Plan to T...</td>\n",
              "      <td>Patrick Henningsen  21st Century WireRemember ...</td>\n",
              "      <td>Middle-east</td>\n",
              "      <td>January 15, 2016</td>\n",
              "      <td>FAKE</td>\n",
              "    </tr>\n",
              "    <tr>\n",
              "      <th>23479</th>\n",
              "      <td>How to Blow $700 Million: Al Jazeera America F...</td>\n",
              "      <td>21st Century Wire says Al Jazeera America will...</td>\n",
              "      <td>Middle-east</td>\n",
              "      <td>January 14, 2016</td>\n",
              "      <td>FAKE</td>\n",
              "    </tr>\n",
              "    <tr>\n",
              "      <th>23480</th>\n",
              "      <td>10 U.S. Navy Sailors Held by Iranian Military ...</td>\n",
              "      <td>21st Century Wire says As 21WIRE predicted in ...</td>\n",
              "      <td>Middle-east</td>\n",
              "      <td>January 12, 2016</td>\n",
              "      <td>FAKE</td>\n",
              "    </tr>\n",
              "  </tbody>\n",
              "</table>\n",
              "<p>23481 rows × 5 columns</p>\n",
              "</div>"
            ],
            "text/plain": [
              "                                                   title  ... label\n",
              "0       Donald Trump Sends Out Embarrassing New Year’...  ...  FAKE\n",
              "1       Drunk Bragging Trump Staffer Started Russian ...  ...  FAKE\n",
              "2       Sheriff David Clarke Becomes An Internet Joke...  ...  FAKE\n",
              "3       Trump Is So Obsessed He Even Has Obama’s Name...  ...  FAKE\n",
              "4       Pope Francis Just Called Out Donald Trump Dur...  ...  FAKE\n",
              "...                                                  ...  ...   ...\n",
              "23476  McPain: John McCain Furious That Iran Treated ...  ...  FAKE\n",
              "23477  JUSTICE? Yahoo Settles E-mail Privacy Class-ac...  ...  FAKE\n",
              "23478  Sunnistan: US and Allied ‘Safe Zone’ Plan to T...  ...  FAKE\n",
              "23479  How to Blow $700 Million: Al Jazeera America F...  ...  FAKE\n",
              "23480  10 U.S. Navy Sailors Held by Iranian Military ...  ...  FAKE\n",
              "\n",
              "[23481 rows x 5 columns]"
            ]
          },
          "metadata": {
            "tags": []
          },
          "execution_count": 4
        }
      ]
    },
    {
      "cell_type": "code",
      "metadata": {
        "colab": {
          "base_uri": "https://localhost:8080/",
          "height": 589
        },
        "id": "u2TbSU-RBU1k",
        "outputId": "dd6502d7-1da2-4817-e96c-cfbfa551f7e3"
      },
      "source": [
        "r = pd.read_csv(\"/content/True.csv\")\n",
        "r.insert(4, 'label', \"REAL\")\n",
        "r"
      ],
      "execution_count": null,
      "outputs": [
        {
          "output_type": "execute_result",
          "data": {
            "text/html": [
              "<div>\n",
              "<style scoped>\n",
              "    .dataframe tbody tr th:only-of-type {\n",
              "        vertical-align: middle;\n",
              "    }\n",
              "\n",
              "    .dataframe tbody tr th {\n",
              "        vertical-align: top;\n",
              "    }\n",
              "\n",
              "    .dataframe thead th {\n",
              "        text-align: right;\n",
              "    }\n",
              "</style>\n",
              "<table border=\"1\" class=\"dataframe\">\n",
              "  <thead>\n",
              "    <tr style=\"text-align: right;\">\n",
              "      <th></th>\n",
              "      <th>title</th>\n",
              "      <th>text</th>\n",
              "      <th>subject</th>\n",
              "      <th>date</th>\n",
              "      <th>label</th>\n",
              "    </tr>\n",
              "  </thead>\n",
              "  <tbody>\n",
              "    <tr>\n",
              "      <th>0</th>\n",
              "      <td>As U.S. budget fight looms, Republicans flip t...</td>\n",
              "      <td>WASHINGTON (Reuters) - The head of a conservat...</td>\n",
              "      <td>politicsNews</td>\n",
              "      <td>December 31, 2017</td>\n",
              "      <td>REAL</td>\n",
              "    </tr>\n",
              "    <tr>\n",
              "      <th>1</th>\n",
              "      <td>U.S. military to accept transgender recruits o...</td>\n",
              "      <td>WASHINGTON (Reuters) - Transgender people will...</td>\n",
              "      <td>politicsNews</td>\n",
              "      <td>December 29, 2017</td>\n",
              "      <td>REAL</td>\n",
              "    </tr>\n",
              "    <tr>\n",
              "      <th>2</th>\n",
              "      <td>Senior U.S. Republican senator: 'Let Mr. Muell...</td>\n",
              "      <td>WASHINGTON (Reuters) - The special counsel inv...</td>\n",
              "      <td>politicsNews</td>\n",
              "      <td>December 31, 2017</td>\n",
              "      <td>REAL</td>\n",
              "    </tr>\n",
              "    <tr>\n",
              "      <th>3</th>\n",
              "      <td>FBI Russia probe helped by Australian diplomat...</td>\n",
              "      <td>WASHINGTON (Reuters) - Trump campaign adviser ...</td>\n",
              "      <td>politicsNews</td>\n",
              "      <td>December 30, 2017</td>\n",
              "      <td>REAL</td>\n",
              "    </tr>\n",
              "    <tr>\n",
              "      <th>4</th>\n",
              "      <td>Trump wants Postal Service to charge 'much mor...</td>\n",
              "      <td>SEATTLE/WASHINGTON (Reuters) - President Donal...</td>\n",
              "      <td>politicsNews</td>\n",
              "      <td>December 29, 2017</td>\n",
              "      <td>REAL</td>\n",
              "    </tr>\n",
              "    <tr>\n",
              "      <th>...</th>\n",
              "      <td>...</td>\n",
              "      <td>...</td>\n",
              "      <td>...</td>\n",
              "      <td>...</td>\n",
              "      <td>...</td>\n",
              "    </tr>\n",
              "    <tr>\n",
              "      <th>21412</th>\n",
              "      <td>'Fully committed' NATO backs new U.S. approach...</td>\n",
              "      <td>BRUSSELS (Reuters) - NATO allies on Tuesday we...</td>\n",
              "      <td>worldnews</td>\n",
              "      <td>August 22, 2017</td>\n",
              "      <td>REAL</td>\n",
              "    </tr>\n",
              "    <tr>\n",
              "      <th>21413</th>\n",
              "      <td>LexisNexis withdrew two products from Chinese ...</td>\n",
              "      <td>LONDON (Reuters) - LexisNexis, a provider of l...</td>\n",
              "      <td>worldnews</td>\n",
              "      <td>August 22, 2017</td>\n",
              "      <td>REAL</td>\n",
              "    </tr>\n",
              "    <tr>\n",
              "      <th>21414</th>\n",
              "      <td>Minsk cultural hub becomes haven from authorities</td>\n",
              "      <td>MINSK (Reuters) - In the shadow of disused Sov...</td>\n",
              "      <td>worldnews</td>\n",
              "      <td>August 22, 2017</td>\n",
              "      <td>REAL</td>\n",
              "    </tr>\n",
              "    <tr>\n",
              "      <th>21415</th>\n",
              "      <td>Vatican upbeat on possibility of Pope Francis ...</td>\n",
              "      <td>MOSCOW (Reuters) - Vatican Secretary of State ...</td>\n",
              "      <td>worldnews</td>\n",
              "      <td>August 22, 2017</td>\n",
              "      <td>REAL</td>\n",
              "    </tr>\n",
              "    <tr>\n",
              "      <th>21416</th>\n",
              "      <td>Indonesia to buy $1.14 billion worth of Russia...</td>\n",
              "      <td>JAKARTA (Reuters) - Indonesia will buy 11 Sukh...</td>\n",
              "      <td>worldnews</td>\n",
              "      <td>August 22, 2017</td>\n",
              "      <td>REAL</td>\n",
              "    </tr>\n",
              "  </tbody>\n",
              "</table>\n",
              "<p>21417 rows × 5 columns</p>\n",
              "</div>"
            ],
            "text/plain": [
              "                                                   title  ... label\n",
              "0      As U.S. budget fight looms, Republicans flip t...  ...  REAL\n",
              "1      U.S. military to accept transgender recruits o...  ...  REAL\n",
              "2      Senior U.S. Republican senator: 'Let Mr. Muell...  ...  REAL\n",
              "3      FBI Russia probe helped by Australian diplomat...  ...  REAL\n",
              "4      Trump wants Postal Service to charge 'much mor...  ...  REAL\n",
              "...                                                  ...  ...   ...\n",
              "21412  'Fully committed' NATO backs new U.S. approach...  ...  REAL\n",
              "21413  LexisNexis withdrew two products from Chinese ...  ...  REAL\n",
              "21414  Minsk cultural hub becomes haven from authorities  ...  REAL\n",
              "21415  Vatican upbeat on possibility of Pope Francis ...  ...  REAL\n",
              "21416  Indonesia to buy $1.14 billion worth of Russia...  ...  REAL\n",
              "\n",
              "[21417 rows x 5 columns]"
            ]
          },
          "metadata": {
            "tags": []
          },
          "execution_count": 5
        }
      ]
    },
    {
      "cell_type": "code",
      "metadata": {
        "id": "fT7Ui2LyBU1l"
      },
      "source": [
        "totdf = pd.concat([f,r])"
      ],
      "execution_count": null,
      "outputs": []
    },
    {
      "cell_type": "code",
      "metadata": {
        "colab": {
          "base_uri": "https://localhost:8080/"
        },
        "id": "qmCfib7LBU1m",
        "outputId": "c79ec366-56ed-4fc7-a397-f45fe3052737"
      },
      "source": [
        "labels = totdf.label\n",
        "labels.head()"
      ],
      "execution_count": null,
      "outputs": [
        {
          "output_type": "execute_result",
          "data": {
            "text/plain": [
              "0    FAKE\n",
              "1    FAKE\n",
              "2    FAKE\n",
              "3    FAKE\n",
              "4    FAKE\n",
              "Name: label, dtype: object"
            ]
          },
          "metadata": {
            "tags": []
          },
          "execution_count": 7
        }
      ]
    },
    {
      "cell_type": "code",
      "metadata": {
        "id": "BKYcHbA9BU1m"
      },
      "source": [
        "x_train, x_test, y_train, y_test = train_test_split(totdf['text'], labels, test_size = 0.2, random_state = 1)"
      ],
      "execution_count": null,
      "outputs": []
    },
    {
      "cell_type": "code",
      "metadata": {
        "id": "QpyeNaNRBU1n"
      },
      "source": [
        "tfidf_vectorizer=TfidfVectorizer(stop_words='english', max_df=0.7)\n",
        "\n",
        "tfidf_train=tfidf_vectorizer.fit_transform(x_train) \n",
        "tfidf_test=tfidf_vectorizer.transform(x_test)"
      ],
      "execution_count": null,
      "outputs": []
    },
    {
      "cell_type": "code",
      "metadata": {
        "colab": {
          "base_uri": "https://localhost:8080/",
          "height": 419
        },
        "id": "9OnMf21PBU1n",
        "outputId": "c3b369dd-ed15-426b-c1ab-c370093316de"
      },
      "source": [
        "pac=PassiveAggressiveClassifier(max_iter=50 )\n",
        "pac.fit(tfidf_train,y_train)\n",
        "y_pred=pac.predict(tfidf_test)\n",
        "dfcheck = pd.DataFrame({'Actual': y_test, 'Predicted': y_pred})  \n",
        "dfcheck "
      ],
      "execution_count": null,
      "outputs": [
        {
          "output_type": "execute_result",
          "data": {
            "text/html": [
              "<div>\n",
              "<style scoped>\n",
              "    .dataframe tbody tr th:only-of-type {\n",
              "        vertical-align: middle;\n",
              "    }\n",
              "\n",
              "    .dataframe tbody tr th {\n",
              "        vertical-align: top;\n",
              "    }\n",
              "\n",
              "    .dataframe thead th {\n",
              "        text-align: right;\n",
              "    }\n",
              "</style>\n",
              "<table border=\"1\" class=\"dataframe\">\n",
              "  <thead>\n",
              "    <tr style=\"text-align: right;\">\n",
              "      <th></th>\n",
              "      <th>Actual</th>\n",
              "      <th>Predicted</th>\n",
              "    </tr>\n",
              "  </thead>\n",
              "  <tbody>\n",
              "    <tr>\n",
              "      <th>4528</th>\n",
              "      <td>FAKE</td>\n",
              "      <td>FAKE</td>\n",
              "    </tr>\n",
              "    <tr>\n",
              "      <th>8246</th>\n",
              "      <td>REAL</td>\n",
              "      <td>REAL</td>\n",
              "    </tr>\n",
              "    <tr>\n",
              "      <th>10937</th>\n",
              "      <td>FAKE</td>\n",
              "      <td>FAKE</td>\n",
              "    </tr>\n",
              "    <tr>\n",
              "      <th>13470</th>\n",
              "      <td>FAKE</td>\n",
              "      <td>FAKE</td>\n",
              "    </tr>\n",
              "    <tr>\n",
              "      <th>17333</th>\n",
              "      <td>REAL</td>\n",
              "      <td>REAL</td>\n",
              "    </tr>\n",
              "    <tr>\n",
              "      <th>...</th>\n",
              "      <td>...</td>\n",
              "      <td>...</td>\n",
              "    </tr>\n",
              "    <tr>\n",
              "      <th>6053</th>\n",
              "      <td>FAKE</td>\n",
              "      <td>FAKE</td>\n",
              "    </tr>\n",
              "    <tr>\n",
              "      <th>10103</th>\n",
              "      <td>REAL</td>\n",
              "      <td>REAL</td>\n",
              "    </tr>\n",
              "    <tr>\n",
              "      <th>6034</th>\n",
              "      <td>REAL</td>\n",
              "      <td>REAL</td>\n",
              "    </tr>\n",
              "    <tr>\n",
              "      <th>9934</th>\n",
              "      <td>REAL</td>\n",
              "      <td>REAL</td>\n",
              "    </tr>\n",
              "    <tr>\n",
              "      <th>11638</th>\n",
              "      <td>REAL</td>\n",
              "      <td>REAL</td>\n",
              "    </tr>\n",
              "  </tbody>\n",
              "</table>\n",
              "<p>8980 rows × 2 columns</p>\n",
              "</div>"
            ],
            "text/plain": [
              "      Actual Predicted\n",
              "4528    FAKE      FAKE\n",
              "8246    REAL      REAL\n",
              "10937   FAKE      FAKE\n",
              "13470   FAKE      FAKE\n",
              "17333   REAL      REAL\n",
              "...      ...       ...\n",
              "6053    FAKE      FAKE\n",
              "10103   REAL      REAL\n",
              "6034    REAL      REAL\n",
              "9934    REAL      REAL\n",
              "11638   REAL      REAL\n",
              "\n",
              "[8980 rows x 2 columns]"
            ]
          },
          "metadata": {
            "tags": []
          },
          "execution_count": 13
        }
      ]
    },
    {
      "cell_type": "code",
      "metadata": {
        "colab": {
          "base_uri": "https://localhost:8080/",
          "height": 164
        },
        "id": "Os-zkgidt-xc",
        "outputId": "7ab1800a-5150-48f6-ea89-21cd02387cdb"
      },
      "source": [
        ""
      ],
      "execution_count": null,
      "outputs": [
        {
          "output_type": "error",
          "ename": "AttributeError",
          "evalue": "ignored",
          "traceback": [
            "\u001b[0;31m---------------------------------------------------------------------------\u001b[0m",
            "\u001b[0;31mAttributeError\u001b[0m                            Traceback (most recent call last)",
            "\u001b[0;32m<ipython-input-11-40daca13be25>\u001b[0m in \u001b[0;36m<module>\u001b[0;34m()\u001b[0m\n\u001b[0;32m----> 1\u001b[0;31m \u001b[0mpac\u001b[0m\u001b[0;34m.\u001b[0m\u001b[0msave\u001b[0m\u001b[0;34m(\u001b[0m\u001b[0mmodel\u001b[0m\u001b[0;34m.\u001b[0m\u001b[0mh5\u001b[0m\u001b[0;34m)\u001b[0m\u001b[0;34m\u001b[0m\u001b[0;34m\u001b[0m\u001b[0m\n\u001b[0m",
            "\u001b[0;31mAttributeError\u001b[0m: 'PassiveAggressiveClassifier' object has no attribute 'save'"
          ]
        }
      ]
    },
    {
      "cell_type": "code",
      "metadata": {
        "colab": {
          "base_uri": "https://localhost:8080/"
        },
        "id": "XuhUfS9tBU1p",
        "outputId": "d62cb70d-8546-46ba-9d91-a2c76f6ec4f2"
      },
      "source": [
        "score=accuracy_score(y_test,y_pred)\n",
        "print(f'Accuracy: {round(score*100,2)}%')"
      ],
      "execution_count": null,
      "outputs": [
        {
          "output_type": "stream",
          "text": [
            "Accuracy: 99.39%\n"
          ],
          "name": "stdout"
        }
      ]
    },
    {
      "cell_type": "code",
      "metadata": {
        "id": "NI1oaKjoSVAC"
      },
      "source": [
        "a = r.head(1)\n",
        "a['text'] = \"\"\"Amazon workers at a giant warehouse in Alabama voted decisively against forming a union on Friday, squashing the most significant organizing drive in the internet giant’s history and dealing a crushing blow to labor and Democrats when conditions appeared ripe for them to make advances.\n",
        "\n",
        "Workers cast 1,798 votes against a union, giving Amazon enough to emphatically defeat the effort. Ballots in favor of a union trailed at 738, fewer than 30 percent of the votes tallied, according to federal officials.\n",
        "\n",
        "The lopsided outcome at the 6,000-person warehouse in Bessemer, Ala., came even as the pandemic’s effect on the economy and the election of a pro-labor president had made the country more aware of the plight of essential workers.\n",
        "\n",
        "Amazon, which has repeatedly quashed labor activism, had appeared vulnerable as it faced increasing scrutiny in Washington and around the world for its market power and influence. President Biden signaled support for the union effort, as did Senator Bernie Sanders, the Vermont independent. The pandemic, which drove millions of people to shop online, also raised questions about Amazon’s ability to keep those employees safe.\"\"\""
      ],
      "execution_count": null,
      "outputs": []
    },
    {
      "cell_type": "code",
      "metadata": {
        "colab": {
          "base_uri": "https://localhost:8080/"
        },
        "id": "CrzHx3zCToSf",
        "outputId": "3de4e4dd-0f8e-41ac-ef40-479bfe83f8b8"
      },
      "source": [
        "a['text'] = \"\"\"Amazon warehouse workers in Bessemer, Alabama, voted no on certifying a union to represent them, rejecting the Retail, Wholesale and Department Store Union. More than 3,200 workers cast ballots by mail in the historic vote on whether to form the first unionized Amazon facility in the US. Though about 500 challenged ballots remain to be considered on Friday, more than 1,700 votes against had been counted, enough to defeat the union effort.The warehouse employees were the first at Amazon in seven years to have a union election. Had Bessemer unionized, it likely would've sparked similar movements across the country. But the effort's defeat instead could have a chilling effect on other warehouse workers considering unionizing. The unofficial tally on Friday stood at 1,798 votes against unionizing and 738 votes in favor. More than 5,800 workers were sent ballots.Those in favor of organizing found themselves up against fierce opposition from Amazon, which argued that its workers didn't need union representation because the company offers them pay that's nearly double the region's minimum wage, as well as health, retirement and tuition benefits. To push its stance with workers, Amazon hired a consultant known for persuading employees not to unionize, at a rate of $3,200 per day, according to documents revealed by The Intercept. Advocates for organizing hoped the union would bring more job security and help improve break policies, among other benefits. The demands have become even more desired by workers now as the coronavirus pandemic puts a burden on them to fulfill the millions of items Americans are ordering every day. The union, which is small compared with giants like the National Education Association of the United States and the Service Employees International Union, also represents meatpackers, cereal makers and department store workers.As the final votes were being counted Friday, the RWDSU said it's filing objections over the election, along with unfair-labor charges that allege \"Amazon interfered with the right of its Bessemer, Alabama, employees to vote in a free and fair election.\" The National Labor Relations Board will likely hold hearings to resolve the matter. If the labor board holds that Amazon's actions weren't allowed, it could order a redo of the election. In extreme cases, the board can order an employer to immediately recognize a union for its employees.\"Amazon knew full well that unless they did everything they possibly could, even illegal activity, their workers would have continued supporting the union,\" the president of the RWDSU, Stuart Appelbaum, said in a release. \"We demand a comprehensive investigation over Amazon's behavior in corrupting this election.\"During a press conference Friday, Appelbaum added that he believes a rerun of the election is likely (the full press conference is here). At the same press conference, pro-union warehouse worker Emmet Ashford said he'd welcome a second election. \"Now that people have the information in how we were misled,\" he said, \"the workers would vote in favor of the union.\"Amazon disagreed with the union's portrayal of the company's actions. \"Our employees heard far more anti-Amazon messages from the union, policymakers, and media outlets than they heard from us,\" the company said in a blog post. \"Amazon didn't win -- our employees made the choice to vote against joining a union.\"Organizers with the RWDSU had already taken issue with one action by Amazon: the installation of a private mailbox on Amazon's premises by the US Postal Service. The NLRB ordered Amazon not to host a ballot drop box on its premises. Documents obtained by the RWDSU show thatAmazon pressed the USPS for the mailbox to be installed before the election. Appelbaum said the presence of the mailbox, a metal cabinet with drawers and locks that makes it look like something found in an apartment building instead of a classic blue post office box, could've swayed employee votes. The workers are used to being constantly surveilled at work, he said, and that could make them uncomfortable about voting at all. What's more, it could give them the wrong idea about how the votes would be counted.\"It gives people the impression that Amazon, not the government, is conducting the election,\" Appelbaum said.Amazon says only the USPS had access to the mailbox. \"We said from the beginning that we wanted all employees to vote and proposed many different options to try and make it easy,\" an Amazon spokesperson said in a statement. \"The RWDSU fought those at every turn and pushed for a mail-only election, which the NLRB's own data showed would reduce turnout.\"The Bessemer warehouse election, which took place over seven weeks in February and March, drew attention as the first union vote at Amazon since January 2014. If it had succeeded, it would've formed the first US Amazon union and potentially inspired more organizing drives at the company's other warehouses. Financial analysts and labor experts said Amazon's intense anti-union campaign was an effort to maintain control over its brand and operations. A large group of unionized warehouses could potentially use strikes and work stoppages to slow down delivery times, which would undermine a key selling point for Amazon's retail service. One union victory was unlikely to dent the company's reliability, but Amazon would also have less control over its day-to-day operations in Bessemer, and if more unions formed, it could impact operations. A union could give employees a say in how shifts are structured, how promotions are given and how employee complaints over safety are dealt with. It also could give employees more power during the ongoing pandemic, when employees have continued to work long hours in Amazon warehouses despite facing possible COVID-19 infection.Amazon last year saw its profits jump more than 79%, to $21.36 billion. The higher demand for Amazon's retail services has come as the tech powerhouse faces increasing scrutiny from regulators and lawmakers for its labor conditions. During the past year, the company has fired warehouse employees who staged walkouts and protests over Amazon's coronavirus safety policies. Though the company attributed the firings to reasons unrelated to the walkouts, the NLRB in several cases found merit in employee complaints of illegal retaliation. Lawmakers have also questioned the company's treatment of workers, expressing concern over pandemic safety measures and policies that require delivery drivers to consent to nonstop monitoring from AI-powered cameras in their trucks. Amazon has tried to portray itself as the good guy by touting its $15-an-hour starting wage and benefits like the same health insurance it offers its corporate workers, but it's also used negative tactics when faced with criticism. In late March, an Amazon executive called out Vermont Sen. Bernie Sanders on Twitter for supporting the Bessemer workers' efforts, and a Twitter account affiliated with Amazon public relations snarkily denied r\"\"\""
      ],
      "execution_count": null,
      "outputs": [
        {
          "output_type": "stream",
          "text": [
            "/usr/local/lib/python3.7/dist-packages/ipykernel_launcher.py:1: SettingWithCopyWarning: \n",
            "A value is trying to be set on a copy of a slice from a DataFrame.\n",
            "Try using .loc[row_indexer,col_indexer] = value instead\n",
            "\n",
            "See the caveats in the documentation: https://pandas.pydata.org/pandas-docs/stable/user_guide/indexing.html#returning-a-view-versus-a-copy\n",
            "  \"\"\"Entry point for launching an IPython kernel.\n"
          ],
          "name": "stderr"
        }
      ]
    },
    {
      "cell_type": "code",
      "metadata": {
        "colab": {
          "base_uri": "https://localhost:8080/"
        },
        "id": "L_vorDsQSqjG",
        "outputId": "369aba51-475f-45d1-d8ae-90960ca14f53"
      },
      "source": [
        "tfidf_test=tfidf_vectorizer.transform(a['text'])\n",
        "y_pred=pac.predict(tfidf_test)\n",
        "print(y_pred)"
      ],
      "execution_count": null,
      "outputs": [
        {
          "output_type": "stream",
          "text": [
            "['FAKE']\n"
          ],
          "name": "stdout"
        }
      ]
    },
    {
      "cell_type": "markdown",
      "metadata": {
        "id": "2MLoBvI5SNVH"
      },
      "source": [
        "## **API INTEGRATION**"
      ]
    },
    {
      "cell_type": "code",
      "metadata": {
        "colab": {
          "base_uri": "https://localhost:8080/"
        },
        "id": "3pxzkUdbBU1q",
        "outputId": "fccffddd-7d72-49e1-8ec3-84b7e22af9e5"
      },
      "source": [
        "!kaggle datasets download -d ruchi798/source-based-news-classification"
      ],
      "execution_count": null,
      "outputs": [
        {
          "output_type": "stream",
          "text": [
            "Downloading source-based-news-classification.zip to /content\n",
            "\r  0% 0.00/2.97M [00:00<?, ?B/s]\n",
            "\r100% 2.97M/2.97M [00:00<00:00, 49.0MB/s]\n"
          ],
          "name": "stdout"
        }
      ]
    },
    {
      "cell_type": "code",
      "metadata": {
        "colab": {
          "base_uri": "https://localhost:8080/"
        },
        "id": "zDEdmWJwCLEf",
        "outputId": "a7fce0fa-f838-4d0f-aeb7-7d3fde2b96dc"
      },
      "source": [
        "!unzip /content/source-based-news-classification.zip"
      ],
      "execution_count": null,
      "outputs": [
        {
          "output_type": "stream",
          "text": [
            "Archive:  /content/source-based-news-classification.zip\n",
            "  inflating: news_articles.csv       \n"
          ],
          "name": "stdout"
        }
      ]
    },
    {
      "cell_type": "code",
      "metadata": {
        "colab": {
          "base_uri": "https://localhost:8080/",
          "height": 666
        },
        "id": "AAml0K1ACIlp",
        "outputId": "dfb68da1-3f34-4ee2-89da-a1a1309492f9"
      },
      "source": [
        "data=pd.read_csv(\"news_articles.csv\")\n",
        "print(data.shape)\n",
        "data.head()"
      ],
      "execution_count": null,
      "outputs": [
        {
          "output_type": "stream",
          "text": [
            "(2096, 12)\n"
          ],
          "name": "stdout"
        },
        {
          "output_type": "execute_result",
          "data": {
            "text/html": [
              "<div>\n",
              "<style scoped>\n",
              "    .dataframe tbody tr th:only-of-type {\n",
              "        vertical-align: middle;\n",
              "    }\n",
              "\n",
              "    .dataframe tbody tr th {\n",
              "        vertical-align: top;\n",
              "    }\n",
              "\n",
              "    .dataframe thead th {\n",
              "        text-align: right;\n",
              "    }\n",
              "</style>\n",
              "<table border=\"1\" class=\"dataframe\">\n",
              "  <thead>\n",
              "    <tr style=\"text-align: right;\">\n",
              "      <th></th>\n",
              "      <th>author</th>\n",
              "      <th>published</th>\n",
              "      <th>title</th>\n",
              "      <th>text</th>\n",
              "      <th>language</th>\n",
              "      <th>site_url</th>\n",
              "      <th>main_img_url</th>\n",
              "      <th>type</th>\n",
              "      <th>label</th>\n",
              "      <th>title_without_stopwords</th>\n",
              "      <th>text_without_stopwords</th>\n",
              "      <th>hasImage</th>\n",
              "    </tr>\n",
              "  </thead>\n",
              "  <tbody>\n",
              "    <tr>\n",
              "      <th>0</th>\n",
              "      <td>Barracuda Brigade</td>\n",
              "      <td>2016-10-26T21:41:00.000+03:00</td>\n",
              "      <td>muslims busted they stole millions in govt ben...</td>\n",
              "      <td>print they should pay all the back all the mon...</td>\n",
              "      <td>english</td>\n",
              "      <td>100percentfedup.com</td>\n",
              "      <td>http://bb4sp.com/wp-content/uploads/2016/10/Fu...</td>\n",
              "      <td>bias</td>\n",
              "      <td>Real</td>\n",
              "      <td>muslims busted stole millions govt benefits</td>\n",
              "      <td>print pay back money plus interest entire fami...</td>\n",
              "      <td>1.0</td>\n",
              "    </tr>\n",
              "    <tr>\n",
              "      <th>1</th>\n",
              "      <td>reasoning with facts</td>\n",
              "      <td>2016-10-29T08:47:11.259+03:00</td>\n",
              "      <td>re why did attorney general loretta lynch plea...</td>\n",
              "      <td>why did attorney general loretta lynch plead t...</td>\n",
              "      <td>english</td>\n",
              "      <td>100percentfedup.com</td>\n",
              "      <td>http://bb4sp.com/wp-content/uploads/2016/10/Fu...</td>\n",
              "      <td>bias</td>\n",
              "      <td>Real</td>\n",
              "      <td>attorney general loretta lynch plead fifth</td>\n",
              "      <td>attorney general loretta lynch plead fifth bar...</td>\n",
              "      <td>1.0</td>\n",
              "    </tr>\n",
              "    <tr>\n",
              "      <th>2</th>\n",
              "      <td>Barracuda Brigade</td>\n",
              "      <td>2016-10-31T01:41:49.479+02:00</td>\n",
              "      <td>breaking weiner cooperating with fbi on hillar...</td>\n",
              "      <td>red state  \\nfox news sunday reported this mor...</td>\n",
              "      <td>english</td>\n",
              "      <td>100percentfedup.com</td>\n",
              "      <td>http://bb4sp.com/wp-content/uploads/2016/10/Fu...</td>\n",
              "      <td>bias</td>\n",
              "      <td>Real</td>\n",
              "      <td>breaking weiner cooperating fbi hillary email ...</td>\n",
              "      <td>red state fox news sunday reported morning ant...</td>\n",
              "      <td>1.0</td>\n",
              "    </tr>\n",
              "    <tr>\n",
              "      <th>3</th>\n",
              "      <td>Fed Up</td>\n",
              "      <td>2016-11-01T05:22:00.000+02:00</td>\n",
              "      <td>pin drop speech by father of daughter kidnappe...</td>\n",
              "      <td>email kayla mueller was a prisoner and torture...</td>\n",
              "      <td>english</td>\n",
              "      <td>100percentfedup.com</td>\n",
              "      <td>http://100percentfedup.com/wp-content/uploads/...</td>\n",
              "      <td>bias</td>\n",
              "      <td>Real</td>\n",
              "      <td>pin drop speech father daughter kidnapped kill...</td>\n",
              "      <td>email kayla mueller prisoner tortured isis cha...</td>\n",
              "      <td>1.0</td>\n",
              "    </tr>\n",
              "    <tr>\n",
              "      <th>4</th>\n",
              "      <td>Fed Up</td>\n",
              "      <td>2016-11-01T21:56:00.000+02:00</td>\n",
              "      <td>fantastic trumps  point plan to reform healthc...</td>\n",
              "      <td>email healthcare reform to make america great ...</td>\n",
              "      <td>english</td>\n",
              "      <td>100percentfedup.com</td>\n",
              "      <td>http://100percentfedup.com/wp-content/uploads/...</td>\n",
              "      <td>bias</td>\n",
              "      <td>Real</td>\n",
              "      <td>fantastic trumps point plan reform healthcare ...</td>\n",
              "      <td>email healthcare reform make america great sin...</td>\n",
              "      <td>1.0</td>\n",
              "    </tr>\n",
              "  </tbody>\n",
              "</table>\n",
              "</div>"
            ],
            "text/plain": [
              "                 author  ... hasImage\n",
              "0     Barracuda Brigade  ...      1.0\n",
              "1  reasoning with facts  ...      1.0\n",
              "2     Barracuda Brigade  ...      1.0\n",
              "3                Fed Up  ...      1.0\n",
              "4                Fed Up  ...      1.0\n",
              "\n",
              "[5 rows x 12 columns]"
            ]
          },
          "metadata": {
            "tags": []
          },
          "execution_count": 68
        }
      ]
    },
    {
      "cell_type": "code",
      "metadata": {
        "id": "ikpmAh_PClyw"
      },
      "source": [
        "fake = data[data['label']=='Fake']\n"
      ],
      "execution_count": null,
      "outputs": []
    },
    {
      "cell_type": "code",
      "metadata": {
        "colab": {
          "base_uri": "https://localhost:8080/"
        },
        "id": "IgCDx8OKCxhl",
        "outputId": "26a10c9d-3cc6-4590-b5d3-af98ffda01ee"
      },
      "source": [
        "b = pd.value_counts(data['site_url'])\n",
        "print(b)"
      ],
      "execution_count": null,
      "outputs": [
        {
          "output_type": "stream",
          "text": [
            "presstv.ir               100\n",
            "clickhole.com            100\n",
            "frontpagemag.com         100\n",
            "infowars.com             100\n",
            "westernjournalism.com    100\n",
            "                        ... \n",
            "globalresearch.ca          1\n",
            "allnewspipeline.com        1\n",
            "intrepidreport.com         1\n",
            "redstatewatcher.com        1\n",
            "themindunleashed.com       1\n",
            "Name: site_url, Length: 68, dtype: int64\n"
          ],
          "name": "stdout"
        }
      ]
    },
    {
      "cell_type": "code",
      "metadata": {
        "colab": {
          "base_uri": "https://localhost:8080/"
        },
        "id": "IxkV71F5C3IB",
        "outputId": "4b02c0ed-2af1-4709-d0b0-f1672fe37999"
      },
      "source": [
        "a = pd.value_counts(fake['site_url'])\n",
        "print(a)"
      ],
      "execution_count": null,
      "outputs": [
        {
          "output_type": "stream",
          "text": [
            "infowars.com                      100\n",
            "awdnews.com                       100\n",
            "naturalnews.com                   100\n",
            "clickhole.com                     100\n",
            "activistpost.com                  100\n",
            "prisonplanet.com                   99\n",
            "abeldanger.net                     82\n",
            "der-postillon.com                  72\n",
            "ahtribune.com                      68\n",
            "abovetopsecret.com                 53\n",
            "legorafi.fr                        46\n",
            "amtvmedia.com                      44\n",
            "amren.com                          40\n",
            "dcclothesline.com                  37\n",
            "fromthetrenchesworldreport.com     28\n",
            "corbettreport.com                  28\n",
            "21stcenturywire.com                24\n",
            "thefreethoughtproject.com          17\n",
            "dennismichaellynch.com             16\n",
            "departed.co                        14\n",
            "adobochronicles.com                13\n",
            "shiftfrequency.com                 11\n",
            "whatreallyhappened.com             10\n",
            "darkmoon.me                         9\n",
            "theeconomiccollapseblog.com         8\n",
            "thedailysheeple.com                 7\n",
            "davidstockmanscontracorner.com      7\n",
            "galacticconnection.com              5\n",
            "coasttocoastam.com                  4\n",
            "newstarget.com                      4\n",
            "americasfreedomfighters.com         3\n",
            "counterpunch.org                    3\n",
            "thesaker.is                         3\n",
            "veteranstoday.com                   3\n",
            "countercurrents.org                 3\n",
            "westernjournalism.com               2\n",
            "voltairenet.org                     2\n",
            "americannews.com                    2\n",
            "wnd.com                             2\n",
            "davidwolfe.com                      2\n",
            "abcnews.com.co                      2\n",
            "topinfopost.com                     2\n",
            "theonion.com                        2\n",
            "theunrealtimes.com                  1\n",
            "allnewspipeline.com                 1\n",
            "therussophile.org                   1\n",
            "presstv.ir                          1\n",
            "thetruthseeker.co.uk                1\n",
            "themindunleashed.com                1\n",
            "frontpagemag.com                    1\n",
            "madworldnews.com                    1\n",
            "washingtonsblog.com                 1\n",
            "defenddemocracy.press               1\n",
            "intrepidreport.com                  1\n",
            "returnofkings.com                   1\n",
            "barenakedislam.com                  1\n",
            "thepeoplescube.com                  1\n",
            "davidduke.com                       1\n",
            "globalresearch.ca                   1\n",
            "projectveritas.com                  1\n",
            "Name: site_url, dtype: int64\n"
          ],
          "name": "stdout"
        }
      ]
    },
    {
      "cell_type": "code",
      "metadata": {
        "colab": {
          "base_uri": "https://localhost:8080/"
        },
        "id": "fuRaxDxWC873",
        "outputId": "f3e93fb7-200b-48d1-b675-3ce5107ae592"
      },
      "source": [
        "result = dict()\n",
        "for i in b.index:\n",
        "  if i in a.index:\n",
        "    dict1 = {'fake':str(a[i]),'total':str(b[i])}\n",
        "    result[i] = dict1\n",
        "print(result)"
      ],
      "execution_count": null,
      "outputs": [
        {
          "output_type": "stream",
          "text": [
            "{'presstv.ir': {'fake': '1', 'total': '100'}, 'clickhole.com': {'fake': '100', 'total': '100'}, 'frontpagemag.com': {'fake': '1', 'total': '100'}, 'infowars.com': {'fake': '100', 'total': '100'}, 'westernjournalism.com': {'fake': '2', 'total': '100'}, 'awdnews.com': {'fake': '100', 'total': '100'}, 'naturalnews.com': {'fake': '100', 'total': '100'}, 'wnd.com': {'fake': '2', 'total': '100'}, 'activistpost.com': {'fake': '100', 'total': '100'}, 'returnofkings.com': {'fake': '1', 'total': '100'}, 'prisonplanet.com': {'fake': '99', 'total': '100'}, 'abeldanger.net': {'fake': '82', 'total': '82'}, 'der-postillon.com': {'fake': '72', 'total': '72'}, 'ahtribune.com': {'fake': '68', 'total': '68'}, 'abovetopsecret.com': {'fake': '53', 'total': '53'}, 'legorafi.fr': {'fake': '46', 'total': '46'}, 'davidduke.com': {'fake': '1', 'total': '45'}, 'amtvmedia.com': {'fake': '44', 'total': '44'}, 'amren.com': {'fake': '40', 'total': '40'}, 'dcclothesline.com': {'fake': '37', 'total': '37'}, 'fromthetrenchesworldreport.com': {'fake': '28', 'total': '29'}, 'corbettreport.com': {'fake': '28', 'total': '28'}, '21stcenturywire.com': {'fake': '24', 'total': '24'}, 'thefreethoughtproject.com': {'fake': '17', 'total': '17'}, 'dennismichaellynch.com': {'fake': '16', 'total': '16'}, 'departed.co': {'fake': '14', 'total': '14'}, 'adobochronicles.com': {'fake': '13', 'total': '13'}, 'shiftfrequency.com': {'fake': '11', 'total': '11'}, 'whatreallyhappened.com': {'fake': '10', 'total': '10'}, 'darkmoon.me': {'fake': '9', 'total': '9'}, 'theeconomiccollapseblog.com': {'fake': '8', 'total': '8'}, 'thedailysheeple.com': {'fake': '7', 'total': '7'}, 'davidstockmanscontracorner.com': {'fake': '7', 'total': '7'}, 'newstarget.com': {'fake': '4', 'total': '5'}, 'galacticconnection.com': {'fake': '5', 'total': '5'}, 'coasttocoastam.com': {'fake': '4', 'total': '4'}, 'americasfreedomfighters.com': {'fake': '3', 'total': '3'}, 'veteranstoday.com': {'fake': '3', 'total': '3'}, 'counterpunch.org': {'fake': '3', 'total': '3'}, 'countercurrents.org': {'fake': '3', 'total': '3'}, 'washingtonsblog.com': {'fake': '1', 'total': '3'}, 'thesaker.is': {'fake': '3', 'total': '3'}, 'abcnews.com.co': {'fake': '2', 'total': '2'}, 'topinfopost.com': {'fake': '2', 'total': '2'}, 'theonion.com': {'fake': '2', 'total': '2'}, 'voltairenet.org': {'fake': '2', 'total': '2'}, 'davidwolfe.com': {'fake': '2', 'total': '2'}, 'americannews.com': {'fake': '2', 'total': '2'}, 'madworldnews.com': {'fake': '1', 'total': '1'}, 'projectveritas.com': {'fake': '1', 'total': '1'}, 'defenddemocracy.press': {'fake': '1', 'total': '1'}, 'theunrealtimes.com': {'fake': '1', 'total': '1'}, 'therussophile.org': {'fake': '1', 'total': '1'}, 'barenakedislam.com': {'fake': '1', 'total': '1'}, 'thetruthseeker.co.uk': {'fake': '1', 'total': '1'}, 'thepeoplescube.com': {'fake': '1', 'total': '1'}, 'globalresearch.ca': {'fake': '1', 'total': '1'}, 'allnewspipeline.com': {'fake': '1', 'total': '1'}, 'intrepidreport.com': {'fake': '1', 'total': '1'}, 'themindunleashed.com': {'fake': '1', 'total': '1'}}\n"
          ],
          "name": "stdout"
        }
      ]
    },
    {
      "cell_type": "code",
      "metadata": {
        "colab": {
          "base_uri": "https://localhost:8080/"
        },
        "id": "epn1ZuXZDBbH",
        "outputId": "c8c4b0df-8515-4e64-c8de-e88d7c7fe41d"
      },
      "source": [
        "print(len(result))"
      ],
      "execution_count": null,
      "outputs": [
        {
          "output_type": "stream",
          "text": [
            "60\n"
          ],
          "name": "stdout"
        }
      ]
    },
    {
      "cell_type": "code",
      "metadata": {
        "id": "F8eQUuOwDDpx"
      },
      "source": [
        "import json\n",
        "\n",
        "with open(\"result.json\", 'w') as file1:\n",
        "  json.dump(result,file1)"
      ],
      "execution_count": null,
      "outputs": []
    },
    {
      "cell_type": "code",
      "metadata": {
        "colab": {
          "base_uri": "https://localhost:8080/"
        },
        "id": "uaygrkirGtRq",
        "outputId": "62fd92a5-7086-4a2a-a1ef-2d8b1f084a77"
      },
      "source": [
        "import requests\n",
        "url = \"https://contextualwebsearch-websearch-v1.p.rapidapi.com/api/search/NewsSearchAPI\"\n",
        "\n",
        "querystring = {\"q\":\"Amazon Workers\",\"pageNumber\":\"1\",\"pageSize\":\"10\",\"autoCorrect\":\"true\",\"fromPublishedDate\":\"null\",\"toPublishedDate\":\"null\"}\n",
        "\n",
        "headers = {\n",
        "    'x-rapidapi-key': \"ebe0483065mshe6d76ab3df7360ap162611jsn4e19fece0593\",\n",
        "    'x-rapidapi-host': \"contextualwebsearch-websearch-v1.p.rapidapi.com\"\n",
        "    }\n",
        "\n",
        "response = requests.request(\"GET\", url, headers=headers, params=querystring).json()\n",
        "\n",
        "print(response)"
      ],
      "execution_count": null,
      "outputs": [
        {
          "output_type": "stream",
          "text": [
            "{'_type': 'news', 'didUMean': '', 'totalCount': 882, 'relatedSearch': [], 'value': [{'id': '3221462668030608061', 'title': 'Amazon Union Vote Proved Labor Law Reforms Are Needed to Help Workers', 'url': 'https://www.businessinsider.com/amazon-union-vote-bessemer-alabama-labor-law-experts-takeaways-2021-4', 'description': 'Experts said the Alabama vote may push regulators to look more closely at how giant tech firms like Amazon exert power over workers.', 'body': 'An image of a chain link. It symobilizes a website link url.\\nCopy Link\\nAmazon faces a historic union vote in Alabama.\\nAmazon; Elif Ozturk/Anadolu Agency via Getty; Dustin Chambers/REUTERS; RWDSU; Samantha Lee/Insider\\nby workers in Bessemer, Alabama.\\nBut experts say companies\\' battles with workers, regulators, and politicians are far from over.\\nThey told Insider that Amazon\\'s anti-union push proved companies have too much power over workers.\\nSee more stories on Insider\\'s business page\\n.\\nAfter one of the most high-profile union  and anti-union  campaigns in recent history, Amazon employees in Bessemer, Alabama, voted overwhelmingly against unionizing with the National Labor Relations Board confirming Friday that 71% of eligible ballots were cast in opposition.\\nBut eight labor experts told Insider that focusing on the vote tally misses the bigger takeaway from this saga: that American workers are demanding better workplaces and a voice on the job, and America\\'s current labor laws simply aren\\'t designed to help them accomplish that goal.\\nStill, they said, Bessemer put a spotlight on how stacked the deck is against workers, and that the broad, diverse public support for the union drive showed the US labor movement is gaining more steam than it has in decades.\\nAmazon, which had aggressively opposed the union effort, undoubtedly won a significant battle this week (pending likely legal challenges from the Retail, Wholesale and Department Store Union). But it may have put a target on its back that could prove costly in what\\'s likely to be an ongoing war over how companies treat their workers, the experts said.\\nThe fight was never going to be fair\\nAmazon responded\\nto the vote Friday by saying its \"employees made the choice to vote against joining a union\" and that it was glad their \"collective voices were finally heard.\"\\nBut experts said that misrepresents what has happened since November, when Bessemer employees officially asked the NLRB to hold a union election.\\n\"The result reflects the imbalance in current US labor law, rather than any genuine expression of whether workers would like to have more of a voice in their workplace,\" Rebecca Givan, an associate labor and employment professor at Rutgers University, told Insider.\\n\"This demonstrates just how hard it is for workers to gain a voice on the job when the employer has unlimited resources, full access to workers all day long, and very few legal constraints on what it can do or say,\" she said.\\nOver the past several decades, American executives and politicians have chipped away at labor laws and workers\\' right to organize, experts said. At the same time, companies have kept American workers\\' pay and benefits down and shipped jobs overseaswhere labor is cheaper  even as workers\\' productivity as well as corporate profitsand executive pay have soared.\\nIn European counties, like France, where labor laws more heavily favor workers, some Amazon employees have been able to successfully unionize. That has paid dividends: in July, Amazon gave its French employees a 1.6% permanent raisefollowing union negotiations.\\nIn Bessemer, workers had a much tougher road to travel.\\n\"Unions lose in 90% of the cases when management opposes the organizing effort,\" which Amazon\\'s management did, Tom Kochan, a professor of management at MIT, told Insider.\\nThat\\'s depite a surge in pro-union sentiment in the US in recent years. Kochan\\'s research in 2017 found that around 48% of non-union workerswould join one if they had the opportunity, while a Gallup poll from August found that 65% of Americans approve of unions the highest percentage in nearly 20 years.\\nBut under US labor law, companies have lots of tools at their disposal to try to prevent employees from unionizing, from forcing them to listen to anti-union messaging in \"\\ncaptive-audience\\n\" meetings, to having a significant say over which employees are eligible to unionizein the first place. Even when companies violate those laws, the NLRB, which oversees union elections, lacks the power to issue fines, which experts said gives companies little incentive to play fair.\\n\"The most important story is not the fact that the union didn\\'t win. Rather, it\\'s that they got as close to winning as they did,\" Erin Hatton, an associate professor of sociology at the University of Buffalo whose research focuses on work and labor movements, told Insider.\\n\"Through legal coercion and illegal tactics, employers spend a great deal of money to keep unions out and it usually works. So this outcome isn\\'t all that surprising. And yet the workers were incredibly successful in so many ways,\" she said.\\nAnti-union tactics in the spotlight\\nOne of those successes, experts said, was bringing attention to Amazon\\'s industry-standard, but still aggressively anti-union tactics.\\n\"Amazon\\'s tactics during the campaign and voting process were successful for them but now are being questioned legally and in the public view,\" Lynne Vincent, an assistant professor of management at Syracuse University, told Insider.\\nEven before employees started talking about forming a union, Amazon had hired private detectives known for union busting spied on workers\\' private Facebook groups and tracked unionization risk with a heat map toolin an effort to thwart organizing efforts before they gained momentum.\\nAmazon also illegally fired multiple employeeslast year who organized demonstrations to shed light on what they said were unsafe and grueling working conditions the NLRB found. Amazon previously said it disagreed with the board\\'s findings in one case, while the other case is still pending before an NLRB administrative law judge.\\nOnce employees took their union drive public, Amazon enlisted expensive \"\\nunion avoidance\\n\" consultants to help kick its union-busting tactics into overdrive. Amazon pushed its anti-union messagethrough websites, t-shirts, frequent texts to employees, and midnight \"education\" meetings, which labor experts told Insider were fairly typically in union campaigns like this.\\nAmazon\\'s executives and PR team also waged an atypical attack on members of Congresswho voiced support for the unions (Amazon later apologized for some of its tweets), and deployed an army of warehouse employeesto respond to criticism of the company on social media.\\nBut the company also sought to shape the voting process itself.\\nThe NLRB has allowed mail-in voting in union elections since March 2020 due to the pandemic, but Amazon (twice, unsuccessfully) tried to get the NLRB to hold an in-person election. When that failed, it reportedly pressed the United States Postal Serviceto install a mailbox outside the Bessemer warehouse.\\nAn Amazon spokesperson previously told Insider that the USPS installed the mailbox \"for the convenience of our employees.\"\\nBut the Retail, Wholesale and Department Store Union  under which Amazon\\'s Bessemer employees would have unionized if the vote had passed  accused Amazon of using the mailbox to intimidate workers and plans to file unfair labor practices charges with the NLRBth', 'keywords': '', 'language': 'en', 'isSafe': True, 'datePublished': '2021-04-10T12:51:55', 'provider': {'name': 'businessinsider', 'favIcon': '', 'favIconBase64Encoding': ''}, 'image': {'url': '', 'height': 0, 'width': 0, 'thumbnail': '', 'thumbnailHeight': 0, 'thumbnailWidth': 0, 'base64Encoding': '', 'name': None, 'title': None, 'provider': {'name': 'businessinsider', 'favIcon': '', 'favIconBase64Encoding': ''}, 'imageWebSearchUrl': None, 'webpageUrl': 'https://www.businessinsider.com/amazon-union-vote-bessemer-alabama-labor-law-experts-takeaways-2021-4'}}, {'id': '8827576293820796458', 'title': 'Amazon warehouse workers reject union bid in Alabama', 'url': 'https://www.avpress.com/business/amazon-warehouse-workers-reject-union-bid-in-alabama/article_673bd0ca-99a9-11eb-96b0-5baa366e05f3.html', 'description': 'Workers at an Amazon warehouse in Bessemer, Alabama handed the online retail giant a decisive victory when they voted against forming a union and cut off a path that labor', 'body': 'Save\\nWorkers at an Amazon warehouse in Bessemer, Alabama handed the online retail giant a decisive victory when they voted against forming a union and cut off a path that labor activists had hoped would lead to similar efforts throughout the company and beyond.\\nAfter months of aggressive campaigning from both sides, 1,798 warehouse workers ultimately rejected the union while 738 voted in favor of it, according to the National Labor Relations Board, which is overseeing the process.\\nOf the 3,117 votes cast, 76 were voided for being filled out incorrectly and 505 were contested by either Amazon or the Retail, Wholesale and Department Store Union, which led the organizing efforts in Bessemer. But the NLRB said the contested votes were not enough to sway the outcome. About 53% of the nearly 6,000 workers cast their ballots.\\nThe union said it would file an objection with the NLRB charging the company with illegally interfering with the union vote. It will seek a hearing with the labor board to determine if the results should be set aside after it accused Amazon of spreading disinformation about the unionization effort at meetings that workers were required to attend.', 'keywords': '', 'language': 'en', 'isSafe': True, 'datePublished': '2021-04-10T11:00:00', 'provider': {'name': 'avpress', 'favIcon': '', 'favIconBase64Encoding': ''}, 'image': {'url': '', 'height': 0, 'width': 0, 'thumbnail': '', 'thumbnailHeight': 0, 'thumbnailWidth': 0, 'base64Encoding': '', 'name': None, 'title': None, 'provider': {'name': 'avpress', 'favIcon': '', 'favIconBase64Encoding': ''}, 'imageWebSearchUrl': None, 'webpageUrl': 'https://www.avpress.com/business/amazon-warehouse-workers-reject-union-bid-in-alabama/article_673bd0ca-99a9-11eb-96b0-5baa366e05f3.html'}}, {'id': '6325663561809731284', 'title': 'Amazon to Hire More Than 2,500 Full-Time Workers', 'url': 'https://www.fool.com/investing/general/2014/02/12/amazon-to-hire-more-than-2500-full-time-workers.aspx', 'description': \"Amazon's new full-time employees will help the online retail giant fill needs at several fulfillment centers across the country.\", 'body': 'Feb 12, 2014 at 11:39AM\\nAuthor Bio\\nTim has been writing professionally for several years after spending 18 years (Whew! Was it that long?)in both the retail and institutional side of the financial services industry. Tim resides in Portland, Oregon with his three children and the family dog.\\nHaving already more than tripled its number of employees in the last three and a half years, Amazon.com\\n(\\nNASDAQ:AMZN\\n)\\nannouncedtoday it would be adding more than 2,500 full-time workers at several fulfillment centers across the U.S. Amazon.com currently employs approximately 110,000 employees worldwide, so 2,500 would be almost 2.3%.\\nAccording to Amazon.com\\'s statement, the new employees will be entitled to full benefits and compensation that is \"30 percent higher than traditional retail jobs.\" Amazon.com said it added approximately 20,000 full-time positions in its U.S. fulfillment centers last year alone.\\nAmazon.com\\'s vice president of North America operations, Mike Roth, said in the press release that the online retail giant was excited to bring \"new employment opportunities to local communities across the country.\"\\nThe new positions include jobs picking, packing, and shipping orders to customers, and will be located at Amazon.com fulfillment centers in Washington, Tennessee, Kansas, South Carolina, and two sites in Virginia. Amazon.com operates 100 fulfillment centers worldwide, with plans for another 18 already set for 2014.\\nMotley Fool Returns', 'keywords': '', 'language': 'en', 'isSafe': True, 'datePublished': '2021-04-10T10:39:00', 'provider': {'name': 'fool', 'favIcon': '', 'favIconBase64Encoding': ''}, 'image': {'url': '', 'height': 0, 'width': 0, 'thumbnail': '', 'thumbnailHeight': 0, 'thumbnailWidth': 0, 'base64Encoding': '', 'name': None, 'title': None, 'provider': {'name': 'fool', 'favIcon': '', 'favIconBase64Encoding': ''}, 'imageWebSearchUrl': None, 'webpageUrl': 'https://www.fool.com/investing/general/2014/02/12/amazon-to-hire-more-than-2500-full-time-workers.aspx'}}, {'id': '7525874465531551178', 'title': 'What happens after Amazon workers vote against union?', 'url': 'https://www.wthr.com/article/news/nation-world/abor-tries-to-regroup-after-alabama-amazon-loss/507-d09e5aa2-94b4-4f0c-aea9-f3fb386ca8f2', 'description': 'Amazon and business groups celebrated the decision, saying warehouse workers got a chance to weigh the pros and cons of union membership -- and voted to reject it.', 'body': 'Seattle customer says Amazon allows anti-Asian language in product listings\\nThe retail union complains that Amazon plastered the Alabama workplace with anti-union posters and forced employees to sit through mandatory sessions in which the company disparaged the union. Labor organizers, by contrast, had to catch employees outside the warehouse gate to make their pitch.\\nThe law failed the workers, said Benjamin Sachs, a labor law professor at Harvard Law School. The law gives employers far too much latitude to interfere in workers ability to make a choice to join a union. That choice should be for the workers to make, not the employers to make.\\nAmazon supporters note that the company paid an average $15.30 an hour -- more than double minimum wage in Alabama -- and offered health care and other benefits. Union representation is a choice for workers, said David French, spokesman for the National Retail Federation. But many clearly prefer opportunities in a competitive marketplace that provides strong wages and benefits.\\nRandy Korgan, of the International Brotherhood of Teamsters National Director for Amazon, rejected the idea Amazon pays competitive wages at a time when $15 an hour has become the minimum wage in some states. Korgan said he made more than $15 an hour himself as a warehouse worker in the early 1990s.\\nUsing the minimum wage as barometer is a huge mistake,\" Korgan said. This is not minimum wage work and for any employer to pat themselves on back and use this as a guiding post shows they dont understand how difficult this work is.\\nAmerican unions have been declining for decades. The percentage of workers who belong to unions peaked in 34.8% in 1954, according to the Congressional Research Service. By last year, their share of workers had fallen to 10.8%, the Labor Department reports.\\nAmericas unionization rate is one of the lowest in the world; it compares to 90% in Iceland, 67% in Denmark, 28% in Canada and 17% in Germany, according to the International Labor Organization.\\nCredit: AP\\nFILE - In this Tuesday, March 30, 2021 file photo, a banner encouraging workers to vote in labor balloting is shown at an Amazon warehouse in Bessemer, Ala.\\nLabor activists say companies routinely punish employees who try to organize unions -- and get away with it. Even when workers do agree to unionize, companies often negotiate in bad faith. The current system is expecting a degree of heroism from people that most of us dont possess, said Thomas Geoghegan, a pro-union labor lawyer and author.\\nEconomists have tied the decline in unions from their 1950s heyday to the growing gap in income between the richest Americans and all the rest. Unions not only raised wages for their own members; they also effectively pressured other employers to offer better pay and benefits.\\nRELATED:\\nEXPLAINER: What to know about the Amazon union vote count\\nA 2011 study by economists at Harvard University and the University of Washington found that the collapse of organized labor accounted for at least a fifth of the growth in inequality between 1973 and 2007.\\nAs concerns about inequality have risen, public support for unions has grown. Gallup reported last year that 65% of Americans support unions, the most since 2003 and up from a low of 48% in 2009.\\nUnions also have a backer in the White House and Democratic control of the House and Senate. President Joe Biden promised to be the most pro-union president youve ever seen. During the union drive at Bessemer, he pointedly expressed support for workers right to choose a union, and he supports the PRO Act.\\nPassed 225-206 by the House, the act would reverse Right to Work laws, currently in effect in 27 states, which prevent unions from collecting dues from workers who refuse to join -- but still benefit from union contracts.\\nIt would also give union organizers more control over how and where union votes are held and empower the National Labor Relations Board to fine companies that dont comply with the boards orders.\\nBut the Senate appears to lack the 60 votes needed to overcome a filibuster, which will ultimately doom the effort. The Democratic Party cant deliver because of the filibuster, Geoghegan said. Its heartbreaking.\\nEven without a legislative victory, he said, Biden could boost unions by say steering federal contracts to companies with collective bargaining agreements.\\nMichael Lind, founder of the New America think tank and author of a history of the American economy, said American unions are hobbled by the way they are forced organize -- company by company or workplace by workplace, as in the case of the Amazon warehouse in Bessemer. Many European countries, by contrast, organize union representative by whole industries or sectors.\\nLets just admit that enterprise-based bargaining is a rotten collapsed building, Lind said. Lets start from scratch with sectoral bargaining.\\nAdam Ryan, a 32-year-old part-time Target employee in Virginia who founded a group called Target Workers Unite in 2019, notes that unions have for years been focused more on contract negotiations rather than the radical strikes they organized decades ago.\\nA lot of times the stereotypes the corporations use to dissuade people from going to unions are largely true  the idea that they are third parties and they come in and take dues out of your paycheck and they really dont do much for you when you need them, he said.\\nRyan argues that unions must reform themselves \"to change peoples sentiments towards them or people need to learn that there are different strategies of labor organizing that can be driven by the rank and file.\"\\nOthers say, despite labors long losing streak, its too soon to count unions out. Philip Dray, author of There is Power in a Union: The Epic Story of Labor in America, recalls the United Auto Workers protracted struggle to organize workers at Ford and Cesar Chavez fight to unionize California farm workers.\\nWorkers collectives have never been an easy fit with this country, Dray said. Unions have frequently lost a battle against formidable opposition, only to go on and win the war.\\n___\\nD\\'Innocenzio reported from New York. AP Business Writer Alexandra Olson in New York contributed to this story.', 'keywords': '', 'language': 'en', 'isSafe': True, 'datePublished': '2021-04-10T10:14:05', 'provider': {'name': 'wthr', 'favIcon': '', 'favIconBase64Encoding': ''}, 'image': {'url': '', 'height': 0, 'width': 0, 'thumbnail': '', 'thumbnailHeight': 0, 'thumbnailWidth': 0, 'base64Encoding': '', 'name': None, 'title': None, 'provider': {'name': 'wthr', 'favIcon': '', 'favIconBase64Encoding': ''}, 'imageWebSearchUrl': None, 'webpageUrl': 'https://www.wthr.com/article/news/nation-world/abor-tries-to-regroup-after-alabama-amazon-loss/507-d09e5aa2-94b4-4f0c-aea9-f3fb386ca8f2'}}, {'id': '9202954702731791509', 'title': 'Amazon Vote Deals Blow to Expanding Labor Union Membership', 'url': 'https://www.marketscreener.com/quote/stock/AMAZON-COM-INC-12864605/news/Amazon-Vote-Deals-Blow-to-Expanding-Labor-Union-Membership-32929597/?utm_medium=RSS&utm_content=20210410', 'description': \"By Eric Morath and Lauren Weber \\n\\n     Workers' rejection of a union at Amazon.com Inc.'s warehouse in Bessemer, Ala., is a setback to organized labor's efforts to reverse a decadeslong decline in... | April 10,  2021\", 'body': 'Become a member for free\\nSign up', 'keywords': '', 'language': 'en', 'isSafe': True, 'datePublished': '2021-04-10T09:45:03', 'provider': {'name': 'marketscreener', 'favIcon': '', 'favIconBase64Encoding': ''}, 'image': {'url': '', 'height': 0, 'width': 0, 'thumbnail': '', 'thumbnailHeight': 0, 'thumbnailWidth': 0, 'base64Encoding': '', 'name': None, 'title': None, 'provider': {'name': 'marketscreener', 'favIcon': '', 'favIconBase64Encoding': ''}, 'imageWebSearchUrl': None, 'webpageUrl': 'https://www.marketscreener.com/quote/stock/AMAZON-COM-INC-12864605/news/Amazon-Vote-Deals-Blow-to-Expanding-Labor-Union-Membership-32929597/?utm_medium=RSS&utm_content=20210410'}}, {'id': '1189990633414087941', 'title': 'Amazon workers snub bid for union', 'url': 'https://www.arkansasonline.com/news/2021/apr/10/amazon-workers-snub-bid-for-union/', 'description': 'Workers at an Amazon warehouse in Bessemer, Ala., handed the online retail giant a decisive victory when they voted against forming a union and cut off a path that labor activists had hoped would lead to similar efforts throughout the company and beyond.', 'body': 'Amazon workers snub bid for union\\nVote in Alabama a blow to activists\\nbyJOSEPH PISANI, ALEXANDRA OLSON AND ANNE DINNOCENZIO THE ASSOCIATED PRESS|Today at 4:24 a.m.\\nA car enters an Amazon facility in Bessemer, Ala., in this Feb. 9, 2021, file photo. Organizers were pushing for some 6,000 Amazon workers to join the Retail, Wholesale and Department Store Union. (AP/Jay Reeves)\\nWorkers at an Amazon warehouse in Bessemer, Ala., handed the online retail giant a decisive victory when they voted against forming a union and cut off a path that labor activists had hoped would lead to similar efforts throughout the company and beyond.\\nAfter months of aggressive campaigning from both sides, 1,798 warehouse workers ultimately rejected the union while 738 voted in favor of it, according to the National Labor Relations Board, which is overseeing the process.\\nOf the 3,117 votes cast, 76 were voided for being filled out incorrectly and 505 were contested by either Amazon or the Retail, Wholesale and Department Store Union, which led the organizing efforts in Bessemer. But the National Labor Relations Board said the contested votes were not enough to sway the outcome. About 53% of the nearly 6,000 workers cast their ballots.\\nThe union said that it would file an objection with the board accusing the company of illegally interfering with the vote. It will seek a hearing with the labor board to determine whether the results \"should be set aside\" after it accused Amazon of spreading disinformation about the unionization effort at meetings that workers were required to attend.\\n\"Amazon has left no stone unturned in its efforts to gaslight its own employees. We won\\'t let Amazon\\'s lies, deception and illegal activities go unchallenged,\" said Stuart Appelbaum, the president of the union.\\nAmazon said in a statement that it didn\\'t intimidate employees.\\n[Video not showing up above? Click here to watch  https://www.youtube.com/watch?v=H6TiRUBbBFM]\\n\"Our employees heard far more anti-Amazon messages from the union, policymakers, and media outlets than they heard from us,\" the company said. \"And Amazon didn\\'t win -- our employees made the choice to vote against joining a union.\"\\nThe union push was the biggest in Amazon\\'s 26-year history and only the second time that an organizing effort from within the company had come to a vote. But Bessemer was always viewed as a long shot because it pitted the country\\'s second-largest employer against warehouse workers in a state with laws that don\\'t favor unions. Alabama is one of 27 \"right-to-work\" states where workers don\\'t have to pay dues to unions that represent them.\\nThat the labor movement in Bessemer even got this far was unexpected. Amazon has an undefeated record of snuffing out union efforts before they can spread. And at a time when the economy is still trying to recover and companies have been eliminating jobs, it is one of the few places still hiring during the pandemic, adding 500,000 workers last year alone.\\nBut the pandemic also revealed inequities in the workforce, with many having to report to their jobs even while the coronavirus was raging, leading to concerns over health and safety. The organizing efforts in Bessemer coincided with protests happening throughout the country after the police killing of George Floyd, raising awareness around racial injustice and further fueling frustration over how workers at the warehouse -- more than 80% of whom are Black -- are being treated, with 10-hour days of packing and loading boxes with two 30-minute breaks.\\nIn a news conference held by Amazon, four workers at the Bessemer warehouse said talk of mistreatment by the company was the opinion of a few workers, not all of them.\\n\"We\\'re really sorry that their experience hasn\\'t been the same as ours,\" said Will Stokes, one of the warehouse workers who voted against the union.\\nThe organizing effort inside the Bessemer warehouse began last summer when a group of workers approached the union about organizing. The movement gained momentum ever since, attracting the attention of professional athletes, Hollywood stars and high-profile elected officials, including President Joe Biden.\\nDuring the voting process, workers were flooded with messages from Amazon and the union. Amazon hung anti-union signs throughout the warehouse and held mandatory meetings on why the union was a bad idea. It also argued that it already offered more than twice the minimum wage in Alabama plus benefits without paying union dues.\\nUnion organizers, meanwhile, stood outside the warehouse gates trying to talk to people driving in and out of work. It also had volunteers call all of the nearly 6,000 workers, promising a union will lead to better working conditions, better pay and more respect.\\nSen. Bernie Sanders, who traveled to Alabama for a pro-union rally last month, said he was \"disappointed but not surprised by the vote.\"\\n\"It is extraordinarily courageous for workers to take on one of the world\\'s wealthiest and most powerful corporations, a company that spent unlimited sums of money to defeat the organizing effort,\" he said in a statement.\\n\\'TARGETS OF OPPORTUNITY\\'\\nMark Cohen, director of retail studies at Columbia University Business School, says Amazon\\'s warehouses are \"juicy targets of opportunity\" for unions because they can be organized one at a time. The company employs more than 950,000 full- and part-time workers in the U.S. and nearly 1.3 million worldwide. Moreover, the status of Amazon\\'s founder Jeff Bezos as the richest man in the world makes him easy to vilify, especially when his company enjoyed record profits last year that climbed 84% to $21 billion.\\nCohen, who used to be an executive at Sears Canada, called retail a \"rough and tough\" industry, adding that \"Bezos has built a high performance-based culture with expectations of performance and productivity at every level down to the shop floor. If that\\'s not your gig, don\\'t go work for them.\"\\nThe National Retail Federation, which represents Walmart, Target and other big retailers, struck a tone of relief after the vote in Bessemer.\\n\"Union representation is a choice for workers, but many clearly prefer opportunities in a competitive marketplace that provides strong wages and benefits over the anonymity of a collective bargaining agreement,\" said David French, a spokesman for the federation.\\nDWINDLING UNIONS\\nUnions have lost ground nationally for decades since their peak in the decades after World War II. In 1970, almost a third of the U.S. workforce belonged to a union. In 2020, that figure was 10.8%, according to the U.S. Bureau of Labor Statistics. Private sector workers now account for less than half of the 14.3 million union members across the country.\\nRichard Bensinger, a former organizing director for the AFL-CIO and the United Automobile Workers, took note of the large number of workers who didn\\'t vote in Bessemer: \"To me, that\\'s all about the paralysis, the fear. They don\\'t want to be supportive of the company but they are afraid to stand up for the union.\"\\nDespit', 'keywords': '', 'language': 'en', 'isSafe': True, 'datePublished': '2021-04-10T09:24:00', 'provider': {'name': 'arkansasonline', 'favIcon': '', 'favIconBase64Encoding': ''}, 'image': {'url': '', 'height': 0, 'width': 0, 'thumbnail': '', 'thumbnailHeight': 0, 'thumbnailWidth': 0, 'base64Encoding': '', 'name': None, 'title': None, 'provider': {'name': 'arkansasonline', 'favIcon': '', 'favIconBase64Encoding': ''}, 'imageWebSearchUrl': None, 'webpageUrl': 'https://www.arkansasonline.com/news/2021/apr/10/amazon-workers-snub-bid-for-union/'}}, {'id': '5160672580876942946', 'title': 'Amazon Union Vote Defeated in Alabama by More Than 2-to-1 Margin', 'url': 'https://gadgets.ndtv.com/internet/news/amazon-union-vote-defeated-us-alabama-warehouse-workers-e-commerce-labour-working-conditions-pay-surveillance-2410441', 'description': 'Amazon warehouse workers in the US state of Alabama voted against forming a union with a 2-to-1 margin in vindication for the employee-related policies of the e-commerce giant.', 'body': 'Amazon Union Vote Defeated in Alabama by More Than 2 to 1 Margin\\nAmazon Union Vote Defeated in Alabama by More Than 2-to-1 Margin\\nAmazon workers in the favour of a union have said that they will challenge the results.\\nBy Reuters |             Updated: 10 April 2021 10:44 IST\\nPhoto Credit: Reuters\\nAmazon offers at least $15.30 (roughly Rs. 1,100) an hour  more than twice the federal minimum wage\\nHighlights\\nAmazon warehouse workers in Alabama voted against forming a union\\nThe company\\'s shares rose 1.8 percent in Friday\\nOut of 5,867 workers eligible to cast ballots, 3,041 voted\\nAmazon.com warehouse workers in Alabama voted against forming a union by a more than 2-to-1 margin in a major win for the retailer, but the union hoping to reignite the US labour movement said on Friday it would challenge the results, citing election interference.\\nNational Labor Relations Board representatives counted 1,798 voting against forming a union, with 738 ballots in favour. A simple majority was needed for victory.\\nBoth sides have the right to challenge the eligibility of individual ballots and the campaign process, but a ballot count official on a Zoom call of the proceeding announced that there were not enough challenged votes to affect the results.\\nAmazon\\nshares rose 1.8 percent Friday, adding to earlier gains.\\nUnion leaders had hoped the election outside Birmingham would spark a new era of worker activism. Appealing to concerns that Amazon was monitoring their every move and associating themselves with the Black Lives Mattermovement, organisers told the largely Black workforce a union could get more from the company controlled by the world\\'s richest man.\\nThe defeat joins high-profile failures to start unions at auto and plane factories in the US South, and illustrates the challenges of organising a major company. Amazon required workers to attend meetings, for instance.\\nAmazon Targeted by New Small Business Coalition on Antitrust\\nStill, some employees described relatively good conditions and pay. Amazon offers at least $15.30 (roughly Rs. 1,100) an hour, more than twice the federal minimum wage, which applies in Alabama.\\n\"Amazon is not perfect, there are flaws, but we are committed to correcting those flaws and management has been, thus far, on board with us,\" William Stokes, an Amazon worker at the Bessemer warehouse said at a panel organised by his employer.\\nHe voted \"no\" to the union.\\nThe vote was watched across the United States, with President Joe Bidendefending workers\\' right to form unions during the process.\\nThe US South has been particularly anti-union. Nearly all the states in the area, including Alabama, passed so-called right-to-work laws that curtail unions\\' abilities to mandate dues and other measures.\\nWhat\\'s next?\\nThe Retail, Wholesale and Department Store Union (RWDSU), which is trying to organise the Amazon employees, said it is filing objections, charging that Amazon interfered with the right of employees to vote.\\n\"People should not presume that the results of this vote are in any way a validation of Amazon\\'s working conditions and the way it treats its employees, quite the contrary. The results demonstrate the powerful impact of employee intimidation and interference,\" Stuart Appelbaum, RWDSU President, told a news conference after counting ended.\\nAmazon Delivery Staff Plans Massive Strike to Demand Better Commission\\n\"We contend that they broke the law repeatedly in their no-holds-barred effort to stop workers from forming a union.\\nThe dispute likely will play out before the National Labor Relations Board (NLRB) and then in federal appeals court.\\nUnion membership has been declining steadily, falling to 11 percent of the eligible workforce in 2020 from 20 percent in 1983, according to the US Bureau of Labor Statistics.\\nAmazon, the second-largest private employer in America, for decades has discouraged attempts among its more than 800,000 US employees to organise, showing managers how to identify union activity, raising wages and warning that union dues would cut into pay, according to a prior training video, public statements and the company\\'s union election website.\\nThe union objection will focus in part on what it described as Amazon pressuring the US Postal Service to install a mail box and then pressuring employees to bring their ballots to work and use the mailbox.\\nOut of 5,867 workers eligible to cast ballots, 3,041 voted. NLRB officials said 505 ballots were contested and 76 were voided.\\nRichard Trumka, AFL-CIO president, who spoke at the union\\'s press conference, said, \"This is not the outcome any of us hoped for but make no mistake, you won the moment that you decided to take on Amazon.\"\\n Thomson Reuters 2021\\nWhy did LG give up on its smartphone business? We discussed this on Orbital the Gadgets 360 podcast. Later (starting at 22:00), we talk about the new co-op RPG shooter Outriders. Orbital is available on Apple Podcasts Google Podcasts Spotify and wherever you get your podcasts.', 'keywords': '', 'language': 'en', 'isSafe': True, 'datePublished': '2021-04-10T05:14:21', 'provider': {'name': 'ndtv', 'favIcon': '', 'favIconBase64Encoding': ''}, 'image': {'url': '', 'height': 0, 'width': 0, 'thumbnail': '', 'thumbnailHeight': 0, 'thumbnailWidth': 0, 'base64Encoding': '', 'name': None, 'title': None, 'provider': {'name': 'ndtv', 'favIcon': '', 'favIconBase64Encoding': ''}, 'imageWebSearchUrl': None, 'webpageUrl': 'https://gadgets.ndtv.com/internet/news/amazon-union-vote-defeated-us-alabama-warehouse-workers-e-commerce-labour-working-conditions-pay-surveillance-2410441'}}, {'id': '3440921812168347098', 'title': 'No union for workers at Amazon', 'url': 'http://www.journalgazette.net/business/20210410/no-union-for-workers-at-amazon', 'description': 'Amazon workers voted against forming a union at a warehouse in Alabama, handing the online retail giant a decisive victory and cutting off a path that ...', 'body': \"Saturday, April 10, 2021 1:00 am\\nNo union for workers at Amazon\\nVote against organizing after long campaign\\nJOSEPH PISANI | Associated Press\\nAmazon workers voted against forming a union at a warehouse in Alabama, handing the online retail giant a decisive victory and cutting off a path that labor activists had hoped would lead to similar efforts throughout the company and beyond.\\nAfter months of aggressive campaigning from both sides, 1,798 warehouse workers ultimately rejected the union while 738 voted in favor of it, according to the National Labor Relations Board, which is overseeing the process.\\nOf the 3,117 votes cast, 76 were voided and 505 were contested by either Amazon or the Retail, Wholesale and Department Store Union, which led the organizing efforts in Bessemer.\\nBut the NLRB said the contested votes were not enough to sway the outcome.\\nThe union said it would file an objection with the NLRB charging the company with illegally interfering with the union vote. It will seek a hearing with the labor board to determine whether the results should be set aside because conduct by the employer created an atmosphere of confusion, coercion and/or fear of reprisals.\\nThe union accused Amazon of spreading disinformation about the unionization effort at meetings that workers were required to attend.\\nAmazon has left no stone unturned in its efforts to gaslight its own employees. We won't let Amazon's lies, deception and illegal activities go unchallenged, said Stuart Appelbaum, the president of the RWDSU.\\nAmazon said in a statement that it didn't intimidate employees.\\nOur employees heard far more anti-Amazon messages from the union, policymakers, and media outlets than they heard from us, the company said. And Amazon didn't win  our employees made the choice to vote against joining a union.\\nThe union push was the biggest in Amazon's 26-year history and only the second time that an organizing effort from within the company had come to a vote.\\nSign up for our daily headlines newsletter\\nSubmit\\nTop headlines are sent daily\\nShare this article\", 'keywords': '', 'language': 'en', 'isSafe': True, 'datePublished': '2021-04-10T05:00:00', 'provider': {'name': 'journalgazette', 'favIcon': '', 'favIconBase64Encoding': ''}, 'image': {'url': '', 'height': 0, 'width': 0, 'thumbnail': '', 'thumbnailHeight': 0, 'thumbnailWidth': 0, 'base64Encoding': '', 'name': None, 'title': None, 'provider': {'name': 'journalgazette', 'favIcon': '', 'favIconBase64Encoding': ''}, 'imageWebSearchUrl': None, 'webpageUrl': 'http://www.journalgazette.net/business/20210410/no-union-for-workers-at-amazon'}}, {'id': '5136217122018664294', 'title': 'Amazon warehouse workers reject union in Alabama', 'url': 'https://salisburypost.com/2021/04/10/amazon-warehouse-workers-reject-union-in-alabama/', 'description': 'By Joseph Pisani, Alexandra Olson and Anne Dinnocenzio AP Retail Writers Workers at an Amazon warehouse in Bessemer, Alabama handed the online retail giant a decisive victory when they voted against forming a union and cut off a path that labor activists had hoped would lead to similar efforts throughout the company and beyond. After []', 'body': 'High school football: Hornets overpower South to secure playoff spot\\nSaturday, April 10, 2021 12:02 am\\nStaff report LANDIS  South Rowan scored first in Fridays Central Carolina Conference football game at Donnell Stadium, but Salisbury scored second, third, fourth, fifth...', 'keywords': '', 'language': 'en', 'isSafe': True, 'datePublished': '2021-04-10T04:00:56', 'provider': {'name': 'salisburypost', 'favIcon': '', 'favIconBase64Encoding': ''}, 'image': {'url': '', 'height': 0, 'width': 0, 'thumbnail': '', 'thumbnailHeight': 0, 'thumbnailWidth': 0, 'base64Encoding': '', 'name': None, 'title': None, 'provider': {'name': 'salisburypost', 'favIcon': '', 'favIconBase64Encoding': ''}, 'imageWebSearchUrl': None, 'webpageUrl': 'https://salisburypost.com/2021/04/10/amazon-warehouse-workers-reject-union-in-alabama/'}}, {'id': '116769144377641117', 'title': \"Amazon speaks out after claims Doncaster workers are being 'exploited' by company\", 'url': 'https://www.examinerlive.co.uk/news/local-news/amazon-speaks-out-after-claims-20355062', 'description': 'Campaigners were in Doncaster on Thursday with signs saying \"stop the exploitation\"', 'body': 'Doncaster.\\nThe Unite Union claim that Amazon\"strongly resists attempts by workers to gain a collective voice of their own\" in order to complain about poor treatment.\\nCampaigners went to St Peter\\'s Church, The Mansion House and The Racecourseto on Thursday protest and let Amazon workers know that they can blow the whistle on poor treatment.\\nThey were seen with signs stating \"stop the exploitation\".\\nThe union has begun a digital Facebook advertising campaign to ensure Amazon workers know that they can confidentially raise issues of concern free from reprisals by calling 08000 141 461 or visiting an online hotline.\\nTo get the latest email updates from South Yorkshire Live,\\nclick here\\n.\\nAmazon has fulfilment centres in Doncaster as part of a huge network of warehouse space across the country.\\nUnite executive officer Sharon Graham said: Calls are growing for a new deal for Amazon workers.\\nThis corporate giant has made billions off the backs of workers. Amazon resists any attempts by workers to gain a collective voice of their own. It is now time that workers have a voice.\\nHowever, Amazon have strongly refuted these claims and say that they treat their employees extremely well.\\nAn Amazon spokesperson said: The fact is we already offer our employees excellent pay, excellent benefits and excellent opportunities for career growth, all while working in a safe, modern work environment.\\nEnter your postcode below to find jobs near you\\n\"Our competitive wages start at 9.70 or 10.80 per hour depending on location, and wed encourage anyone to compare this to the wages and benefits offered by other retailers.\\n\"Were proud to have created 10,000 new permanent roles across the UK in 2020, taking our total permanent UK workforce to more than 40,000.\\n\"Our people have played a critical role in serving customers in these unprecedented times and the new roles help us continue to meet customer demand and support small and medium sized businesses selling on Amazon.\"\\nRead More\\nRelated Articles', 'keywords': '', 'language': 'en', 'isSafe': True, 'datePublished': '2021-04-10T04:00:00', 'provider': {'name': 'examinerlive', 'favIcon': '', 'favIconBase64Encoding': ''}, 'image': {'url': '', 'height': 0, 'width': 0, 'thumbnail': '', 'thumbnailHeight': 0, 'thumbnailWidth': 0, 'base64Encoding': '', 'name': None, 'title': None, 'provider': {'name': 'examinerlive', 'favIcon': '', 'favIconBase64Encoding': ''}, 'imageWebSearchUrl': None, 'webpageUrl': 'https://www.examinerlive.co.uk/news/local-news/amazon-speaks-out-after-claims-20355062'}}]}\n"
          ],
          "name": "stdout"
        }
      ]
    },
    {
      "cell_type": "code",
      "metadata": {
        "colab": {
          "base_uri": "https://localhost:8080/"
        },
        "id": "0XzBHnRqt-uo",
        "outputId": "43cffcf8-6105-4735-fa9e-a4a717f3aa0d"
      },
      "source": [
        "import nltk\n",
        "nltk.download('stopwords')\n",
        "nltk.download('punkt')"
      ],
      "execution_count": null,
      "outputs": [
        {
          "output_type": "stream",
          "text": [
            "[nltk_data] Downloading package stopwords to /root/nltk_data...\n",
            "[nltk_data]   Package stopwords is already up-to-date!\n",
            "[nltk_data] Downloading package punkt to /root/nltk_data...\n",
            "[nltk_data]   Package punkt is already up-to-date!\n"
          ],
          "name": "stdout"
        },
        {
          "output_type": "execute_result",
          "data": {
            "text/plain": [
              "True"
            ]
          },
          "metadata": {
            "tags": []
          },
          "execution_count": 77
        }
      ]
    },
    {
      "cell_type": "code",
      "metadata": {
        "id": "M9aGQncouLgP"
      },
      "source": [
        "from nltk.corpus import stopwords\n",
        "stop_words = stopwords.words('english')"
      ],
      "execution_count": null,
      "outputs": []
    },
    {
      "cell_type": "code",
      "metadata": {
        "id": "scDVSjKZHFr4"
      },
      "source": [
        "#b = \"Amazon Workers Vote Down Union Drive at Alabama Warehouse\"\n",
        "#b = \"Drinking onion juice stops covid 19\"\n",
        "b = \"Hillary clinton becomes president in 2020\"\n",
        "#b = \"Donald Trump is dead\""
      ],
      "execution_count": null,
      "outputs": []
    },
    {
      "cell_type": "code",
      "metadata": {
        "colab": {
          "base_uri": "https://localhost:8080/",
          "height": 37
        },
        "id": "5u6Fbtqeucom",
        "outputId": "5f9279ab-802b-4afb-950a-9d895938f710"
      },
      "source": [
        "c = [i.lower() for i in b.split() if i not in stop_words]\n",
        "d = \"\"\n",
        "for i in c:\n",
        "  d += i + \" \"\n",
        "d"
      ],
      "execution_count": null,
      "outputs": [
        {
          "output_type": "execute_result",
          "data": {
            "application/vnd.google.colaboratory.intrinsic+json": {
              "type": "string"
            },
            "text/plain": [
              "'hillary clinton becomes president 2020 '"
            ]
          },
          "metadata": {
            "tags": []
          },
          "execution_count": 120
        }
      ]
    },
    {
      "cell_type": "code",
      "metadata": {
        "colab": {
          "base_uri": "https://localhost:8080/"
        },
        "id": "zA7eaRikvNED",
        "outputId": "1df2897f-4c9a-479c-9323-ec3f6b49ae79"
      },
      "source": [
        "querystring = {\"q\":d,\"pageNumber\":\"1\",\"pageSize\":\"10\",\"autoCorrect\":\"true\",\"fromPublishedDate\":\"null\",\"toPublishedDate\":\"null\"}\n",
        "response = requests.request(\"GET\", url, headers=headers, params=querystring).json()\n",
        "\n",
        "print(response)"
      ],
      "execution_count": null,
      "outputs": [
        {
          "output_type": "stream",
          "text": [
            "{'_type': 'news', 'didUMean': '', 'totalCount': 862, 'relatedSearch': [], 'value': [{'id': '4820348314168172604', 'title': 'Meghan Markle working with former Hillary Clinton adviser amid claims of presidential run', 'url': 'http://express.co.uk/news/royal/1416344/meghan-markle-hillary-clinton-president-archewell-royal-family-prince-harry-spt', 'description': 'MEGHAN MARKLE is now working with former Hillary Clinton adviser Genevieve Roth amid talk that she might one day run for the US presidency.', 'body': 'Genevieve Roth is the new senior strategic adviser at Archewell\\n(Image: GETTY)\\nMs Roth has also spoken out against racism and unconscious bias, a topic which is close to Meghan and Harrys hearts.\\nMs Roth admitted she recognised racist tendencies in herself after marrying her husband Jordan, who is black.\\nSimilarly, Harry has said he did not fully understand the problem of racism until he met Meghan.\\nDiscussing Meghans possible presidential ambitions, Ms Gripper joked: George Clooney-Meghan Markle joint ticket, done.\\nThen they just have to fight over who gets top billing. Lets face it, being President is a big job.\\nMeghan Markle and Harry: Expert discusses UKs reaction\\nBefore marrying Prince Harry, Meghan was an outspoken advocate for gender and racial equality, and even criticised Donald Trump on TV.\\nShe branded him misogynistic and divisive and indicated her support for Mrs Clinton in 2016.\\nIn her interview with Oprah Winfrey, Meghan said she felt silenced during her time in The Firm.\\nMembers of the Royal Family are expected to remain neutral on political matters, due to conventions around the constitutional monarchy, but the Sussexes stepped down as senior royals a year ago and moved to the US.\\nSince stepping back, she and Harry have dipped their toes into the political arena by encouraging Americans to vote in the 2020 election.\\nRelated articles\\nRoyal security funded by Home Office not Windsors\\nWhile they stopped short of explicit support for either side, many assumed they backed Joe Biden due to Meghans previous comments about his opponent, and because Harry has a personal friendship with Mr Biden after meeting at the Invictus Games.\\nMr Trump said earlier this month that he is more likely to run for President again in 2024 if Meghan Markle does too.\\nThe former President said he would have a strong feeling towards running if Meghan were to launch a bid to become the nations first ever female President.\\nMeghan has reportedly had talks with key members of the Democratic Party, adding fuel to the growing talk of her potential political future.\\nTo subscribe to Pod Save the Queen go to your normal podcast provider.\\nRelated articles', 'keywords': '', 'language': 'en', 'isSafe': False, 'datePublished': '2021-03-29T12:12:00', 'provider': {'name': 'express', 'favIcon': '', 'favIconBase64Encoding': ''}, 'image': {'url': '', 'height': 0, 'width': 0, 'thumbnail': '', 'thumbnailHeight': 0, 'thumbnailWidth': 0, 'base64Encoding': '', 'name': None, 'title': None, 'provider': {'name': 'express', 'favIcon': '', 'favIconBase64Encoding': ''}, 'imageWebSearchUrl': None, 'webpageUrl': 'http://express.co.uk/news/royal/1416344/meghan-markle-hillary-clinton-president-archewell-royal-family-prince-harry-spt'}}, {'id': '3262294537114504929', 'title': 'Hillary Clinton returns to DNC championing women in politics', 'url': 'https://www.theledger.com/story/news/2020/08/19/hillary-clinton-returns-dnc-championing-women-politics/3400147001/', 'description': 'After more than four decades in public life, Hillary Clinton will return to the Democratic National Convention to cement her legacy as a champion of women in politics.', 'body': 'Hillary Clinton returns to DNC championing women in politics\\nBy SARA BURNETT\\nAssociated Press\\nCHICAGO  After more than four decades in public life, Hillary Clinton will return to the Democratic National Conventionto cement her legacy as a champion of women in politics.\\nClinton, who lost the presidency to Donald Trump in 2016 despite winning the popular vote by nearly 3 million votes, is a complicated figure in American political culture. She\\'s despised by many Republicans and viewed warily by some progressives who are increasingly assertive in shaping the modern Democratic Party.\\nBut four years after she made history as the first woman nominated for president by a major party, Clinton will nod to another enduring legacy: the millions of women inspired by her 2016 bid who marched, ran for office and have become a powerful force in taking on Trump. Her presence Wednesday night comes as California Sen. Kamala Harris becomes the first Black woman to accept a spot on a major presidential ticket and one day after the 100th anniversary of women\\'s suffrage.\\nThat\\'s expected to send a message about staying in the fight to women across the country for whom 2016 was a turning point, said Cecile Richards, co-founder of Supermajority, which formed in 2019 to train and mobilize female activists.\\n\"The fact that she hasn\\'t given up, I think, has encouraged a lot of women to not give up,\" said Richards, the former president of Planned Parenthood. \"I think there\\'s an important role she has to play in saying, \\'OK, she\\'s getting up every morning and doing this work and we can, too.\\' I think it\\'s an important message that you\\'ve just got to dust yourself off and and keep going.\"\\nAfter Trump\\'s election, millions turned out for women\\'s marches and women ran for  and won  office in record numbers, helping Democrats take control of the U.S. House in 2018. A record number of women, including Harris, sought this year\\'s Democratic presidential nomination. And the number of women running for the House and the U.S. Senate set a record again this year, as did the number of women of color running, according to the Center for American Women and Politics at Rutgers University.\\n\"Since 2016 we\\'ve seen these waves of women stepping up\" at all levels of government, said Adrianne Shropshire, president of BlackPAC, a national organization that works to mobilize Black voters. \"You have this \\'Before Hillary\\' and \\'After Hillary,\\' when things are very, very different.\"\\nShropshire called Clinton a \"trailblazer\" who made a way for other women while enduring attacks dating from her time as first lady in the 1990s to her 2016 loss after a campaign in which Trump often led rally crowds in chants of \"lock her up.\" She said the Democratic Party also has shifted since 2016 to lean more into the base of Black voters and progressives, and to look more like the country.\\nWednesday\\'s speech will be Clinton\\'s sixth to the Democratic National Convention. In 1992 her husband, longtime Arkansas Gov. Bill Clinton, was the nominee, but Clinton didn\\'t speak at that year\\'s convention. Her first DNC speech was in 1996, when the then-first lady faced criticism about the Whitewater scandal and for having too much influence on administration policy.\\nIn 2000, Clinton spoke as a candidate for the Senate, and in 2004 the then-senator from New York introduced her husband. She was on stage in 2008 after her first presidential bid, backing Barack Obama, the man to whom she lost the nomination and in whose administration she later served as secretary of state. In 2016 she was the nominee and told delegates, \"We just put the biggest crack in that glass ceiling yet.\"\\nKaren Finney, a former Clinton press secretary and senior adviser to her 2016 campaign, said Clinton represents the arc of history for women and women in politics, from a first lady who wasn\\'t supposed to publicly exert influence to a presidential nominee. Clinton has noted that while women won the right to vote in 1920, that right wasn\\'t extended to Black women and other women of color until decades later, Finney said.\\n\"To then have a Black woman on the ticket as vice president, it demonstrates how far we\\'ve come. But we\\'re also at a moment in history where we really aren\\'t where we should be,\" she said.\\nFinney expects Clinton to speak Wednesday about the significance of the moment for women and the conversations happening around racial injustice. She\\'s also hoping to hear Clinton\\'s unique perspective on what already is a bruising 2020 race.\\n\"She certainly has some of the best insight about what it\\'s like to run against Donald Trump,\" Finney said.', 'keywords': '', 'language': 'en', 'isSafe': True, 'datePublished': '2021-03-18T10:39:00', 'provider': {'name': 'theledger', 'favIcon': '', 'favIconBase64Encoding': ''}, 'image': {'url': '', 'height': 0, 'width': 0, 'thumbnail': '', 'thumbnailHeight': 0, 'thumbnailWidth': 0, 'base64Encoding': '', 'name': None, 'title': None, 'provider': {'name': 'theledger', 'favIcon': '', 'favIconBase64Encoding': ''}, 'imageWebSearchUrl': None, 'webpageUrl': 'https://www.theledger.com/story/news/2020/08/19/hillary-clinton-returns-dnc-championing-women-politics/3400147001/'}}, {'id': '1773536184881690780', 'title': \"Hillary Clinton to discuss Kamala Harris' 'Chucks' at fundraiser\", 'url': 'https://www.usatoday.com/story/news/politics/elections/2020/09/09/hillary-clinton-discuss-kamala-harris-chucks-fundraiser/5760107002/', 'description': 'Hillary Clinton is doing her first \"grassroots event\" with Democratic vice presidential nominee Kamala Harris on Monday.', 'body': 'View Comments\\nWASHINGTON  Hillary Clinton is doing her first \"grassroots event\" with Democratic vice presidential nominee Kamala Harris on Monday, as Democrats hope to be the first party to put a women in the White House  even as the No. 2.\\n\"We\\'ll talk about the Biden-Harris team\\'s plans to get our country back on track, how all of us can help elect Democrats down-ballot, and maybe even those Chucks,\" Clinton\\ntweeted\\nWednesday in reference to the low-rise Chuck Taylor All-Stars that received much social media attention when Harris wore them during a campaign tripto Wisconsin Monday.\\nIn May, Clinton helped raise $2 million for a joint fundraising committee for the Biden campaign and the Democratic National Committee,\\naccording to Politico.\\nThe campaign declined to provide additional details about Monday\\'s virtual fundraiser. The event link Clinton tweeted says \"most people are chipping in $25!\"\\nThe Biden campaign outraised the Trump campaign in August. Harris  as well as her husband  have been doing a steady stream of virtual fundraisers since joining the ticket.\\nWhen Clinton spoke at the Democratic National Conventionlast month, she praised Harris\\' toughness.\\n\"I know a thing or two about the slings and arrows coming her way,\" said Clinton, who lost her 2016 attempt to become the first female president. \"Kamala can handle them all.\"\\nPresident Donald Trump singled Harris out\\nduring a campaign\\nrally in North Carolina Tuesday, saying: \"People don\\'t like her.\"\\n\"She could never be the first woman president,\" Trump said. \"That would be an insult to our country.\"\\nWomen\\'s groups have said one lesson they learned from 2016 is that they need to forcefully respond to any criticism or coverage they believe is unfair.\\nEMILY\\'s List, the political action committee that elevates pro-choice Democratic women, has already run ads to \"push back against the racist and sexist attacks\" against Harris.\\n\"We refuse to sit by while she faces discriminatory and false attacks,\" Melissa Williams, executive director of EMILY\\'s List WOMEN VOTE!, said when announcing a seven-figure advertising expenditure for Harris.', 'keywords': '', 'language': 'en', 'isSafe': False, 'datePublished': '2021-03-15T03:41:00', 'provider': {'name': 'usatoday', 'favIcon': '', 'favIconBase64Encoding': ''}, 'image': {'url': '', 'height': 0, 'width': 0, 'thumbnail': '', 'thumbnailHeight': 0, 'thumbnailWidth': 0, 'base64Encoding': '', 'name': None, 'title': None, 'provider': {'name': 'usatoday', 'favIcon': '', 'favIconBase64Encoding': ''}, 'imageWebSearchUrl': None, 'webpageUrl': 'https://www.usatoday.com/story/news/politics/elections/2020/09/09/hillary-clinton-discuss-kamala-harris-chucks-fundraiser/5760107002/'}}, {'id': '5073381851980149276', 'title': 'Brian Howey: Woodward book talks Coats, Pence and the Trump reality show', 'url': 'https://www.courierpress.com/story/opinion/2020/09/24/brian-howey-woodward-book-talks-coats-pence-and-trump-reality-show/3527290001/', 'description': 'Donald Trumps stunning 2016 upset of Hillary Clinton not only changed the course of history, it altered the life stories of Mike Pence and Dan Coats.', 'body': 'Brian Howey: Woodward book talks Coats, Pence and the Trump reality show\\nBrian Howey\\nColumnist\\nGathering for dinner in 2015 at the governors retreat, Brown County State Parks Aynes House, Gov. Mike Pence and U.S. Sen. Dan Coats came to some career conclusions. Pence decided he would not seek the presidency in 2016 and Coats opted against reelection.\\nWe talked about the future and where God might lead each of us, Coats explained to author Bob Woodward in the book Rage released earlier this month. We prayed that God would be clear and I think I raised the question that we should pray for clarity.\\nDonald Trumps stunning 2016 upset of Hillary Clinton not only changed the course of history, it altered the life stories of Pence and Coats. Pence proposed that Coats speak to the president-elect, ostensibly to describe how the Senate works.\\nA month after that meeting, Pence called Coats: The president would like you to be director of national intelligence overseeing the sprawling 17 spy agencies.\\nThe senator was reluctant. His wife, Marsha Coats, then an Indiana Republican national committeewoman, urged him to accept. Coats concluded that Pence was trying to seed the Trump cabinet with allies, people who shared his religious values.\\nThe previous summer at the Republican National Convention in Cleveland, Coats told me how he had met with Trump, and he hand-delivered a message from his wife. Later, when Dan and Marsha Coats met with the billionaire in Fort Wayne, Trump sought her out. He said, Marsha, I will not let you down. Marsha Coats came to this conclusion: God is so big he can even humble Donald Trump.\\nOnce on the job, Coats felt utterly overwhelmed. He would give Trump the Presidents Daily Brief three times a week. He never knew which Trump he would find. Some days Trump would be in a fine mood. Other days he would lash out abusively.\\nCoats was shocked: Trump was on a different page than just about anything I believed in.\\nEventually, Coats struck up a friendship with Defense Secretary James Mattis. The president has no moral compass, Mattis told Coats. True, Coats responded. To him, a lie is not a lie. Its what he thinks. He doesnt know the difference between the truth and a lie.\\nAs Coats and Mattis grew closer, his friendship with Pence grew more distant. Coats told Woodward, Once he became vice president he built that kind of cocoon around him that basically said this is the role of a vice president. In Coatss eyes, Pence had become passive, subservient and obedient.\\nMarsha Coats told others, Mike Pence no doubt believes God put him where he is and his job is to be a good VP, loyal and supportive  even though he doesnt agree with so much of it.\\nOn July 16, 2018, President Trump met with Russian President Putin alone for two hours in Helsinki. Coats never received a read-out. Five months before, Coats warned the Senate Intelligence Committee that Russia was assaulting the U.S. electoral process.\\nIn Helsinki, Trump threw United States intelligence services under the bus. They said they think its Russia, Trump said as Putin stood by, smiling. I have President Putin. He just said its not Russia.\\nCoats issued a rebuke: We have been clear in our assessments of Russian meddling in the 2016 election and their ongoing, pervasive efforts to undermine our democracy.\\nWoodward: As DNI, Coats had access to the most sensitive intelligence  intercepts, and the best deep-cover human CIA sources in Russia. He suspected the worst but found nothing that would show Trump was indeed in Putins pocket. But Coatss doubts continued, never dissipating.\\nOn Dec. 6, 2018, Mattis met in Ottawa with 13 defense ministers with troops in Syria. They need to stay in the fight; every country needs to stay, Mattis said. He was jubilant the coalition was staying intact. ISIS was defeated militarily, but the fear was it could reconstitute.\\nOn Dec. 19, Mattis saw a Trump tweet pop up: After historic victories against ISIS, its time to bring our great young people home.\\nMattis was shocked at this betrayal of Americas Kurdish allies. He quit.\\nAs the sole adult left in the room, Coats pondered his own exit after a series of White House leaks suggested he was on thin ice. Pence did not want to hear talk of Coats resigning. Look, we need to support the president, Pence told Coats. Lets look at the positive side of things that hes done. More attention on that. You cant go.\\nFeeling Trumps contempt, Coats felt depleted. On Memorial Day weekend 2019, Woodward reported, Coats dialed up Mattis. Im really having a hard time here, Coats said. \\nMattis responded: Maybe at some point were going to have to stand up and speak out. There may be a time when we have to take collective action. Hes unfit. We cant let the country keep going on this course.\\nOn July 28, 2019  three days after Trumps ill-fated phone call with Ukraine President Zelensky that triggered his impeachment  Dan and Marsha Coats were golfing at the Trump National Club, and came across the president. Mrs. Coats, a trained psychologist, had a feeling something was up. The look on Trumps face was one of guilt and dismay, Woodward reported.\\nWhen they arrived at the fourth hole, they learned Dan Coats had been fired (via Twitter).\\nThis past Thursday, Trump spoke about Coats on Fox News.\\n\"Dan is a stiff. Dan would sit there all day long at a meeting and he wouldn\\'t ever say anything,\" Trump told Fox News host Brian Kilmeade on Thursday. \"All of a sudden he becomes this thing. Dan was not suited for this job. He was a mistake. He didn\\'t do anything.\"\\nThe columnist is publisher of Howey Politics Indiana at www.howeypolitics.com. Find Howey on Facebook and Twitter @hwypol.', 'keywords': '', 'language': 'en', 'isSafe': False, 'datePublished': '2021-03-14T10:48:00', 'provider': {'name': 'courierpress', 'favIcon': '', 'favIconBase64Encoding': ''}, 'image': {'url': '', 'height': 0, 'width': 0, 'thumbnail': '', 'thumbnailHeight': 0, 'thumbnailWidth': 0, 'base64Encoding': '', 'name': None, 'title': None, 'provider': {'name': 'courierpress', 'favIcon': '', 'favIconBase64Encoding': ''}, 'imageWebSearchUrl': None, 'webpageUrl': 'https://www.courierpress.com/story/opinion/2020/09/24/brian-howey-woodward-book-talks-coats-pence-and-trump-reality-show/3527290001/'}}, {'id': '5828241004862493448', 'title': \"Presidents Barack Obama, George W. Bush, Bill Clinton and Jimmy Carter and First Ladies Michelle Obama, Laura Bush, Hillary Clinton, and Rosalynn Carter Join the Ad Council and COVID Collaborative's National COVID-19 Vaccine Education Initiative\", 'url': 'https://menafn.com/1101734790/Presidents-Barack-Obama-George-W-Bush-Bill-Clinton-and-Jimmy-Carter-and-First-Ladies-Michelle-Obama-Laura-Bush-Hillary-Clinton-and-Rosalynn-Carter-Join-the-Ad-Council-and-COVID-Collaboratives-National-COVID-19-Vaccine-Education-Initiative?source=306', 'description': \"NEW YORK, March 11, 2021 /PRNewswire/ --   The Ad Council and COVID Collaborative today announced new PSAs as part of their COVID-19 Vaccine Education Initiative's It's Up To You campaign featuring former Presidents Barack Obama, George W. Bush, Bill Clinton, Jimmy Carter and former First Ladies Michelle Obama, Laura Bush, Hillary Clinton and Rosa\", 'body': 'Tweet on Twitter\\n(MENAFN - PR Newswire)  NEW YORK, March 11, 2021 /PRNewswire/ --\\nThe Ad Council and COVID Collaborative today announced new PSAs as part of their COVID-19 Vaccine Education Initiative\\'s \"It\\'s Up To You\" campaign featuring former Presidents Barack Obama, George W. Bush, Bill Clinton, Jimmy Carter and former First Ladies Michelle Obama, Laura Bush, Hillary Clinton and Rosalynn Carter. The videos are designed to encourage all Americans to get answers to the top questions about the COVID-19 vaccines at GetVaccineAnswers.org and to get a vaccination when it\\'s available to them.\\n(PRNewsfoto/The Ad Council)\\nVIDEO:\\nFormer Presidents and First Ladies \\'It\\'s Up To You\\' :60 | COVID-19 Vaccine Education Initiative\\n\"Over the past year, the pandemic has taken an immeasurable toll on families all across the country and upended everyone\\'s lives,\" said President Barack Obama. \"Michelle and I got vaccinated against COVID-19 because we know it\\'s the best way to get the country back up and running againand get us back to the moments we miss. We hope every American will do the same and get a vaccine as soon as it\\'s available to them. It could save your life.\"\\n\"Laura and I are grateful for the dedicated scientists and researchers who enabled safe and effective vaccines to be developed so quickly. As the country moves toward recovery and renewal, we look forward to seeing our families, friends, and even a baseball game. We hope everyone joins us in getting a vaccine when it\\'s available to them,\" said President George W. Bush.\\n\"America has always been at its best when we are looking out for one another and pulling together in common cause. Now, with the development of safe and effective COVID-19 vaccines, we have the chance to rise to the moment again,\" said President Bill Clinton. \"I encourage every American to get vaccinated as soon as it becomes available to youand to feel confident, as Hillary and I did when we got ours, that it will protect you and your loved ones, and bring us all one step closer to ending this pandemic.\"\\n\"Rosalynn and I are very happy to be vaccinated so, together with other public health measures, we can get back to church, see our children, grandchildren and great-grandchildren, and eventually be active in our community again. I encourage everyone to get a vaccine when it\\'s their turn,\" said President Jimmy Carter.\\nVIDEO:\\nFormer Presidents and COVID-19 Vaccine Facts | COVID-19 Vaccine Education Initiative | Ad Council\\nThis project began in December 2020 and is being released as vaccines are becoming available to more Americans. The first of the PSAs, developed pro bono by creative agency Group SJR, aims to educate and empower Americans with information about the COVID-19 vaccines. In it, former Presidents Obama, Bush, Clinton and Carter discuss the moments they miss and are eager to get back to and features the First Ladies. The second PSA, developed pro bono by creative agency Pereira O\\'Dell, features Presidents Obama, Bush and Clinton speaking about the importance of COVID-19 vaccination, reminding Americans that the life-saving vaccines will protect individuals and those they love. In both PSAs, audiences are encouraged to visit GetVaccineAnswers.org to get answers to the top questions Americans have about the COVID-19 vaccines.\\n\"Today marks one year since the World Health Organization declared COVID-19 a global pandemic and, while there is a light at the end of the tunnel, there\\'s a lot of work still to be done to help our country recover. We\\'re grateful to Presidents Obama, Bush, Clinton and Carter and the First Ladies for coming together in this historic moment to encourage Americans to get the most accurate information on the vaccines so they can make the right decisions for themselves and their families,\" said Lisa Sherman, President and CEO of the Ad Council.\\nAccording to Ad Council research fielded by Ipsos in February, approximately 40% of the American public remain undecided about getting a COVID-19 vaccination. Of that undecided population, only 56% say they feel confident they have enough information to guide their decision about getting a COVID-19 vaccination, compared to 96% of those already committed. Whether or not a vaccine is available to them, a majority of those undecided (73%) still want information to address their questions now, underlining the need for an urgent mass education initiative.\\n\"In this pandemic, we need every American to help so that all Americans can recover,\" said former Republican Governor Dirk Kempthorne and former Democratic Governor Deval Patrick, Co-Chairs of the COVID Collaborative. \"These former Presidents and First Ladies have come together to show that each of us, regardless of political party, has a stake in beating this virus.\"\\nThe PSAs are a part of one of the largest public education campaigns in U.S. history and will appear nationwide in time and space donated by the media across TV and digital media platforms beginning this week.\\nThe launch of this content follows the Ad Council and COVID Collaborative\\'s recent launch of the \"It\\'s Up To You\" initiative, which includes creative assets developed by Pereira O\\'Dell, JOY Collective, iHeartMedia, Group SJR, Values Partnerships and other partners to ensure the American public has the latest and most accurate information about the COVID-19 vaccines.\\nVetted by experts at CDC, HHS and COVID Collaborative, content at GetVaccineAnswers.org is available in seven languages (English, Spanish, Simplified Chinese, Korean, Russian, Haitian Creole, and Vietnamese) and serves as an information hub to help consumers make an informed decision for themselves and their families about COVID-19 vaccination. Resources on the website will be continually updated as new information and data become available.\\nThe Ad Council and COVID Collaborative have partnered to ensure public service messages reach deeply into local communities through trusted messengers and institutions. COVID Collaborative\\'s dissemination network reaches millions of Americans through its many associations representing health, education and the economy and the diversity of the United States, supported by the Skoll Foundation, Allstate Foundation, Kaiser Permanente, Macy Foundation, Pure Edge, and Walton Family Foundation.\\nTo date, the Ad Council has raised over $52 million for the communications effort to help turn the tide of the pandemic and provide critical education surrounding COVID-19 vaccination. Leading contributors to date include Amazon, Apple, Bank of America, Cisco, CVS Health, Facebook, General Motors, Google and YouTube, the Humana Foundation, NBCUniversal/Comcast, Salesforce, Verizon, Walgreens and Walmart. Significant contributions have also been provided by Adobe, America\\'s Health Insurance Plans (AHIP), the American Heart Association, the American Medical Association, BNY Mellon, Business Roundtable, Citi, Ford Motor Company, Honeywell, JPMorgan Chase, the New York Life Foundation, Stanley Black  &  Decker, Synchrony, Target, Unileve', 'keywords': '', 'language': 'en', 'isSafe': True, 'datePublished': '2021-03-11T00:42:49', 'provider': {'name': 'menafn', 'favIcon': '', 'favIconBase64Encoding': ''}, 'image': {'url': '', 'height': 0, 'width': 0, 'thumbnail': '', 'thumbnailHeight': 0, 'thumbnailWidth': 0, 'base64Encoding': '', 'name': None, 'title': None, 'provider': {'name': 'menafn', 'favIcon': '', 'favIconBase64Encoding': ''}, 'imageWebSearchUrl': None, 'webpageUrl': 'https://menafn.com/1101734790/Presidents-Barack-Obama-George-W-Bush-Bill-Clinton-and-Jimmy-Carter-and-First-Ladies-Michelle-Obama-Laura-Bush-Hillary-Clinton-and-Rosalynn-Carter-Join-the-Ad-Council-and-COVID-Collaboratives-National-COVID-19-Vaccine-Education-Initiative?source=306'}}, {'id': '3796001388631803875', 'title': 'A Trump RetrospectiveWhat If?', 'url': 'https://uncoverdc.com/2021/01/23/a-trump-retrospective-what-if/', 'description': 'Now that the execrable US political class has gifted the country with The Hologram  the first truly illegitimate president  it is time for retrospectives on the Trump presidency.', 'body': 'Email\\nNow that the execrable US political class has gifted the country with The Hologramthe first truly illegitimate presidentit is time for retrospectives on the Trump presidency. The storming of the Capitol was a convenientplannedexcuse to avoid any debate on the evidence of massive election fraud during the joint session of Congress, but thats a topic for another day. Let us examine and dissect what was a key decision point at the beginning of the Trump administration.\\nDuring the 2016 campaign, candidate Trump developed a number of winning themes and slogans that people at his rallies frequently repeated in unison, not the least of which was Lock Her Up, in reference to the multiple felonies surrounding the FBIs cover-up of Hillary Clintons unclassified email server. For those who continue to doubt her guilt, a quick perusal of\\nthis signed affidavit from a State Department whistleblower\\nis just the tip of the iceberg. Go to page 122 of the .pdf file located at the above link to read the whole letter. Here is the opening excerpt:\\nWhen former FBI Director James Comey exonerated her in a public statement on July 5, 2016, claiming that she had been \\nextremely careless\\n in handling her emails but would not recommend criminal charges to the Dept of Justice, many Americansespecially career national security personnel who fully understood the implications of her crimeswere outraged at the miscarriage of justice. And the slogan Lock Her Up! was born. Candidate Trump indeed promised to lock her up during many of his campaign stops, including\\nthis one in Florida on October 20, 2016\\n:\\nYeah. I agree with you. I used to just be quiet on that. I agree with you 100 percent, Trump said, endorsing calls to jail his political opponent.\\nYet, after he won the election, President Trump averred in December 2016 that \\nhis threat to imprison Hillary Clinton for using a private email server during her time as secretary of state was simply an appeal to win voters\\n. Was that true, or did President Trump make his first big mistake by deciding not to pursue a key campaign promise and instead focus on his agenda?\\nI believe that Trump misjudged the political class bigly from the very beginning, thinking that he could make deals with them to everyones benefit. He naively thought that if Congress joined him in implementing his agenda, everyone would benefit politically from the successes. He failed to realize until much later that all they really care about is naked power, not what benefits average Americans, and they werent prepared to share power with a political outsider like Trump. He probably also thought that, given his propensity to let the legal processes play themselves out without his direct interference, DoJ would eventually convict Hillary Clinton for obvious crimes (as that DoS whistleblower clearly detailed), and he could let that process happen on its own while he concentrated on undoing Obamas disastrous agenda and getting America back on track. A strategic error!\\nWhat if he had actually followed through on his promise to lock her up? How might the last four years have worked out very differently, and what might have been avoided? We know what happened: the exposure of the fraudulent Crossfire Hurricane counter-intelligence investigation that precipitated the faux Mueller investigation, the transition to the Ukraine impeachment farce, the Democrats political exploitation of the Chicom virus, and other sundry Democrat-media attacks along the way. We also observed the tepid defense of the President throughout the last four years by Establishment Republicans, especially what passed for Republican leadership in the US Senate and also at the RNC. This was especially evident during the first two years when many RINOs in the House of Representatives apparently expected President Trump to resign or be impeached, as some 38 retired rather than stand for reelection in 2018 Another problem was the completely ineffective Republican political response (nonexistent?) to the Democrats lawfare efforts to stymie President Trumps executive orders through endless injunctions filed before Democrat-friendly judges. Finally, we know that despite near-universal resistance by the political class and legacy media to his agenda, President Trumps accomplishments were indeed Herculean But what more might he have accomplished had he used the power of his office (within the law) to actually go after the crooks?\\nThe theory here is that allowing Hillary Clinton to escape justice emboldened Trumps political enemies. The continued lack of accountability for everyone caught up in the FISA abuse, lying to Congress, and other felonies merely caused the Democrat-media complex to double-down on their attempts to get Trump. That led directly to weakened support among Republican members of Congress, which undermined the Trump agendas pursuit as time went by. The Democrats signaled early on in 2017 that they were not interested in compromise, so the only political way-ahead was to strengthen Republican majorities in Congress. And the best way to do that would have been to convince the American people including the Democrat rank-and-fileof the crimes committed by Hillary Clinton and the Obama apparatchiks.\\nHolding Hillary accountable would have sent a strong signal to the political class that he truly meant business and would have strengthened his support among Americans who have become increasingly cynical about the two-tiered justice system that protects those in the political class. Aggressively going after the FISA abusers in the FBI, DoJ, and FISC would have changed the political calculus going into the 2020 election, too, as many Americans still doubt the criminality of the likes of Brennan, Comey, Clapper, McCabe, Strzok, and many others.\\nAdding some much-needed oil to the slowly grinding wheels of justice would have paid other dividends, too. Some indictments and convictions of key players would have emboldened Trumps allies in Congress and forced the media to cover the trials, which would have undercut the false Democrat-media narratives of Trump-Russia collusion, Ukraine quid-pro-quo, and Trumps inept virus response killed Americans. In reality, all of those narratives were projections by Democrats of their own sins! Would the Democrats have won control of the House in 2018 if there had been a few key indictments before the election? Imagine how much different 2019 and 2020 would have been without Nancy Pelosi in the House speakers chair! There would have been no Ukraine impeachment farce and a much stronger and more unified Republican Party going into the 2020 election.\\nFinally, I suspect the Democrats were quite surprised at their own good fortune as President Trump essentially let them all off the hook when they knew from direct experience that their own presidents had no compunction about using federal agencies to go after their political enemies. That President Trump fought his battles within the lifelines of', 'keywords': '', 'language': 'en', 'isSafe': True, 'datePublished': '2021-01-23T15:27:11', 'provider': {'name': 'uncoverdc', 'favIcon': '', 'favIconBase64Encoding': ''}, 'image': {'url': '', 'height': 0, 'width': 0, 'thumbnail': '', 'thumbnailHeight': 0, 'thumbnailWidth': 0, 'base64Encoding': '', 'name': None, 'title': None, 'provider': {'name': 'uncoverdc', 'favIcon': '', 'favIconBase64Encoding': ''}, 'imageWebSearchUrl': None, 'webpageUrl': 'https://uncoverdc.com/2021/01/23/a-trump-retrospective-what-if/'}}, {'id': '5570570042364279933', 'title': \"Hillary Clinton says 'nobody likes' Bernie Sanders\", 'url': 'http://thepeninsulaqatar.com/article/12/02/2020/what-s-next-for-democratic-presidential-candidates-after-new-hampshire/article/22/01/2020/hillary-clinton-says-nobody-likes-bernie-sanders', 'description': 'Hillary Clinton launched a scathing attack on presidential hopeful Bernie Sanders, her rival for the 2016 Democratic nomination, telling a documentary that \"nobody likes him.\"', 'body': 'Hillary Clinton says \\'nobody likes\\' Bernie Sanders\\n22 Jan 2020 - 16:33\\nFile photo: Hillary Clinton reacts as rival Bernie Sanders tries to hand her a piece of paper during a Democratic debate IN 2016.\\nAFP\\nNew York: Hillary Clinton launched a scathing attack on presidential hopeful Bernie Sanders, her rival for the 2016 Democratic nomination, telling a documentary that \"nobody likes him.\"\\nThe former US secretary of state also refused to say whether she would endorse and campaign for Sanders if he becomes the Democrats\\' choice to take on President Donald Trump in November\\'s election.\\nHer comments on Tuesday drew the ire of Sanders\\' supporters, who called on Clinton to support the candidate the party backs in their bid to remove Trump from the White House.\\n\"He was in Congress for years. He had one senator support him,\" Clinton says in a four-part series due to air on streaming site Hulu in March.\\n\"Nobody likes him, nobody wants to work with him, he got nothing done. He was a career politician.\\n\"It\\'s all just baloney and I feel so bad that people got sucked into it,\" she adds.\\nSanders, a leftist senator from Vermont, is among the leaders in the race for the 2020 Democratic presidential nomination.\\nHe sits second in national polls behind centrist Joe Biden and ahead of Massachusetts senator Elizabeth Warren, two weeks before the first nomination vote in Iowa.\\nSanders, 78, pushed 72-year-old Clinton to the wire four years ago in an acrimonious, months-long battle for the party\\'s nomination. Clinton won that race but lost to Trump.\\nShe has criticized Sanders and his supporters for not sufficiently backing her in the presidential vote.\\nInterviewed by The Hollywood Reporter about the documentary, Clinton stopped short of saying she would support Sanders if he won the nomination this year.\\n\"I\\'m not going to go there yet. We\\'re still in a very vigorous primary season,\" she said.\\nBut in a tweet on Tuesday night, Clinton expanded on her position.\\n\"I thought everyone wanted my authentic, unvarnished views! But to be serious,', 'keywords': '', 'language': 'en', 'isSafe': True, 'datePublished': '2020-12-02T00:00:00', 'provider': {'name': 'thepeninsulaqatar', 'favIcon': '', 'favIconBase64Encoding': ''}, 'image': {'url': '', 'height': 0, 'width': 0, 'thumbnail': '', 'thumbnailHeight': 0, 'thumbnailWidth': 0, 'base64Encoding': '', 'name': None, 'title': None, 'provider': {'name': 'thepeninsulaqatar', 'favIcon': '', 'favIconBase64Encoding': ''}, 'imageWebSearchUrl': None, 'webpageUrl': 'http://thepeninsulaqatar.com/article/12/02/2020/what-s-next-for-democratic-presidential-candidates-after-new-hampshire/article/22/01/2020/hillary-clinton-says-nobody-likes-bernie-sanders'}}, {'id': '2840121613611677713', 'title': 'News Corp. bids for publisher', 'url': 'http://www.arkansasonline.com/news/2020/nov/18/news-corp-bids-for-publisher/', 'description': \"Rupert Murdoch's News Corp. is making a play for Simon & Schuster, the venerable home to bestselling authors such as Stephen King and Hillary Clinton that raised a ruckus this year after releasing a string of hit titles critical of President Donald Trump.\", 'body': 'News Corp. bids for publisher\\nMurdoch firm one of several vying for Simon & Schuster\\nby EDMUND LEE THE NEW YORK TIMES | Today at 1:00 a.m.\\nRupert Murdoch\\'s News Corp. is making a play for Simon & Schuster, the venerable home to bestselling authors such as Stephen King and Hillary Clinton that raised a ruckus this year after releasing a string of hit titles critical of President Donald Trump.\\nThe powerhouse publisher was put up for sale by its owner, ViacomCBS, in March, and the company has since fielded more than half a dozen inquiries, according to three people familiar with the process who declined to be named because the matter remains confidential.\\nIn addition to News Corp., which already owns HarperCollins, a leading bidder is Penguin Random House, according to the people. Penguin Random House, the largest U.S. book publisher, is owned by German media giant Bertelsmann. French firm Vivendi, a minority owner of Hachette through the publisher Lagardere, has also made a bid.\\nAt least one of the offers has topped $1.7 billion, far above the minimum ViacomCBS had set, according to two of the people. Several financial firms, after lobbing offers below that range, are no longer in the running. Final bids are due before Thanksgiving, and ViacomCBS could announce a winner some time after that. A deal may not materialize.\\nViacomCBS, the newly merged conglomerate led by Shari Redstone, declined to comment. News Corp. and Vivendi also had no comment. Bertelsmann would not address Simon & Schuster in particular, but a spokesman said, \"We have stated in the past that Penguin Random House wants to grow organically and through M&A [mergers and acquisitions].\"\\nSimon & Schuster, one of the five largest book publishers in the country, has a deep bench of name-brand writers, including children\\'s author Judy Blume, novelist Annie Proulx and journalist and historian Walter Isaacson. It also has several perennial bestsellers, including \"Catch-22,\" by Joseph Heller; \"Gone With the Wind,\" by Margaret Mitchell; and \"How to Win Friends and Influence People,\" by Dale Carnegie.\\nPublishing has become a winner-takes-all business, a circumstance brought on by Amazon\\'s aggressive pricing, and now a publisher needs size to survive. Tent-pole titles can better offset losses from weaker books. A bigger inventory can generate more data on the habits and interests of book buyers.\\nADVERTISEMENT\\nSponsor Content\\nCOMMENTS - It looks like you\\'re using Internet Explorer, which isn\\'t compatible with the Democrat-Gazette commenting system. You can join the discussion by using another browser, like', 'keywords': '', 'language': 'en', 'isSafe': True, 'datePublished': '2020-11-18T07:00:00', 'provider': {'name': 'arkansasonline', 'favIcon': '', 'favIconBase64Encoding': ''}, 'image': {'url': '', 'height': 0, 'width': 0, 'thumbnail': '', 'thumbnailHeight': 0, 'thumbnailWidth': 0, 'base64Encoding': '', 'name': None, 'title': None, 'provider': {'name': 'arkansasonline', 'favIcon': '', 'favIconBase64Encoding': ''}, 'imageWebSearchUrl': None, 'webpageUrl': 'http://www.arkansasonline.com/news/2020/nov/18/news-corp-bids-for-publisher/'}}, {'id': '8875860701216669720', 'title': 'Biden considers Hillary Clinton for UN ambassador role', 'url': 'https://www.independent.co.uk/news/world/americas/us-election-2020/biden-administration-hillary-clinton-un-ambassador-b1722378.html', 'description': 'The transition team of President-elect Joe Biden has been vetting potential candidates for months and will present him the potential choices in the coming days', 'body': 'un\\nning to become the US ambassador to the United Nations.\\nMs Clinton, who lost to Donald Trump in the 2016 presidential election, is being discussed as a potential pick for the role, according to the\\nWashington Post\\n.\\nThe president-electhas already begun assembling his coronavirus taskforce, and in the coming months will need to choose the members of his cabinet. Discussions are underway, even as Mr Trump has refused to concede the election, citing voter fraud without providing evidence.\\nMr Bidens team has been vetting potential candidates for top roles in his administration for months, and a number of options are to be presented to him in the coming days.\\nOn Ms Clinton, sources told the\\nPost\\nthat the move would be a way for Biden to highlight the importance of that position in his administration, and that placing her there would raise the prestige of the UN itself at a time when global cooperation and the US role on the world stage, has ebbed.\\nOn Wednesday, Mr Biden chose the veteran Democratic operative Ron Klain as his White House chief of staff. It had been rumoured for months that Mr Klain, a lawyer who also advised Barack Obama, would get the top job.\\nMr Klain, 59, served as Mr Obamas Ebola tsar and has been a fierce critic of Mr Trumps handling of the coronavirus pandemic\\nHe worked as a top aide to Mr Biden when he was still a senator for Delaware, and ran his office when he first became vice president. \\nYour daily US politics newsletter', 'keywords': '', 'language': 'en', 'isSafe': True, 'datePublished': '2020-11-13T12:41:45', 'provider': {'name': 'independent', 'favIcon': '', 'favIconBase64Encoding': ''}, 'image': {'url': '', 'height': 0, 'width': 0, 'thumbnail': '', 'thumbnailHeight': 0, 'thumbnailWidth': 0, 'base64Encoding': '', 'name': None, 'title': None, 'provider': {'name': 'independent', 'favIcon': '', 'favIconBase64Encoding': ''}, 'imageWebSearchUrl': None, 'webpageUrl': 'https://www.independent.co.uk/news/world/americas/us-election-2020/biden-administration-hillary-clinton-un-ambassador-b1722378.html'}}, {'id': '4912324113560351908', 'title': 'Book timing suggests Michelle Obama running for president in 2020', 'url': 'http://americanthinker.com/blog/2018/02/book_timing_suggests_michelle_obama_running_for_president_in_2020.html', 'description': 'Everyone in the Democratic Party understands that without black voter turnout well over 90%, the party has a difficult time winning the presidency.', 'body': 'more than doubled\\nthe combined total received by Bill and Hillary Clinton for their post-presidency books.Timing the book just after the midterms could be a shrewd commercial decision.\\nDuring her husband\\'s presidency, Michelle Obama enjoyed strong approval in polling, as every first lady traditionally has.But that status is dependent on not being active in the nitty-gritty of politics and serving as a representative of the entire American people.Hillary Clinton discovered that the cachet as first lady does not necessarily translate into victory in a presidential election.\\nHillary Clinton at least served as a senator and secretary of state, whereas Michelle Obama has never served in public office, and her last professional engagement was as a highly paid official at the University of Chicago Hospitals, a job she received when her husband was elected to the Senate.Her function there seems to have been diverting money-losing patients lacking insurance to other hospitals.\\nI certainly wouldn\\'t put it past the Democrats to nominate an empty dress for president on the basis of name recognition and identity politics.But will the American voting public be anxious to return to the policies that generated a purported \"new normal\" of low economic growth and stagnant wages?\\nBernie Sanders has not yet commented.He still harbors hope of gaining the nomination he was cheated out of in 2016.\\nMichelle Obama looks as though she wants to run for president in 2020, tweeting out yesterday that her new book will be published five days after the midterm election on November 13.Many observers believe that this signals her candidacy, hoping to capitalize on momentum generated by Democrat gains in Congress.\\nWriting BECOMING has been a deeply personal experience. I talk about my roots and how a girl from the South Side found her voice. I hope my journey inspires readers to find the courage to become whoever they aspire to be. I can\\'t wait to share my story.', 'keywords': '', 'language': 'en', 'isSafe': True, 'datePublished': '2020-11-13T00:00:00', 'provider': {'name': 'americanthinker', 'favIcon': '', 'favIconBase64Encoding': ''}, 'image': {'url': '', 'height': 0, 'width': 0, 'thumbnail': '', 'thumbnailHeight': 0, 'thumbnailWidth': 0, 'base64Encoding': '', 'name': None, 'title': None, 'provider': {'name': 'americanthinker', 'favIcon': '', 'favIconBase64Encoding': ''}, 'imageWebSearchUrl': None, 'webpageUrl': 'http://americanthinker.com/blog/2018/02/book_timing_suggests_michelle_obama_running_for_president_in_2020.html'}}]}\n"
          ],
          "name": "stdout"
        }
      ]
    },
    {
      "cell_type": "code",
      "metadata": {
        "colab": {
          "base_uri": "https://localhost:8080/"
        },
        "id": "tje7hQ6Jwhkg",
        "outputId": "3bdef761-9ebf-4d3a-bbc7-8072078ae92f"
      },
      "source": [
        "resp_head = [response['value'][i]['title'] for i in range(10)]\n",
        "resp_head[1:3]"
      ],
      "execution_count": null,
      "outputs": [
        {
          "output_type": "execute_result",
          "data": {
            "text/plain": [
              "['Hillary Clinton returns to DNC championing women in politics',\n",
              " \"Hillary Clinton to discuss Kamala Harris' 'Chucks' at fundraiser\"]"
            ]
          },
          "metadata": {
            "tags": []
          },
          "execution_count": 122
        }
      ]
    },
    {
      "cell_type": "code",
      "metadata": {
        "id": "LBE8NCZqxa2U"
      },
      "source": [
        "X_set = set(c)\n",
        "\n",
        "Y_set = [{w.lower() for w in resp_head[i].split() if w not in stop_words }for i in range(10)]"
      ],
      "execution_count": null,
      "outputs": []
    },
    {
      "cell_type": "code",
      "metadata": {
        "colab": {
          "base_uri": "https://localhost:8080/"
        },
        "id": "ET0eX2Kjx99H",
        "outputId": "cddd6ad6-4b3d-4542-9876-669979f06776"
      },
      "source": [
        "Y_set"
      ],
      "execution_count": null,
      "outputs": [
        {
          "output_type": "execute_result",
          "data": {
            "text/plain": [
              "[{'adviser',\n",
              "  'amid',\n",
              "  'claims',\n",
              "  'clinton',\n",
              "  'former',\n",
              "  'hillary',\n",
              "  'markle',\n",
              "  'meghan',\n",
              "  'presidential',\n",
              "  'run',\n",
              "  'working'},\n",
              " {'championing', 'clinton', 'dnc', 'hillary', 'politics', 'returns', 'women'},\n",
              " {\"'chucks'\",\n",
              "  'clinton',\n",
              "  'discuss',\n",
              "  'fundraiser',\n",
              "  \"harris'\",\n",
              "  'hillary',\n",
              "  'kamala'},\n",
              " {'book',\n",
              "  'brian',\n",
              "  'coats,',\n",
              "  'howey:',\n",
              "  'pence',\n",
              "  'reality',\n",
              "  'show',\n",
              "  'talks',\n",
              "  'trump',\n",
              "  'woodward'},\n",
              " {'ad',\n",
              "  'barack',\n",
              "  'bill',\n",
              "  'bush,',\n",
              "  'carter',\n",
              "  'clinton',\n",
              "  'clinton,',\n",
              "  \"collaborative's\",\n",
              "  'council',\n",
              "  'covid',\n",
              "  'covid-19',\n",
              "  'education',\n",
              "  'first',\n",
              "  'george',\n",
              "  'hillary',\n",
              "  'initiative',\n",
              "  'jimmy',\n",
              "  'join',\n",
              "  'ladies',\n",
              "  'laura',\n",
              "  'michelle',\n",
              "  'national',\n",
              "  'obama,',\n",
              "  'presidents',\n",
              "  'rosalynn',\n",
              "  'vaccine',\n",
              "  'w.'},\n",
              " {'a', 'if?', 'retrospectivewhat', 'trump'},\n",
              " {\"'nobody\", 'bernie', 'clinton', 'hillary', \"likes'\", 'sanders', 'says'},\n",
              " {'bids', 'corp.', 'news', 'publisher'},\n",
              " {'ambassador', 'biden', 'clinton', 'considers', 'hillary', 'role', 'un'},\n",
              " {'2020',\n",
              "  'book',\n",
              "  'michelle',\n",
              "  'obama',\n",
              "  'president',\n",
              "  'running',\n",
              "  'suggests',\n",
              "  'timing'}]"
            ]
          },
          "metadata": {
            "tags": []
          },
          "execution_count": 124
        }
      ]
    },
    {
      "cell_type": "code",
      "metadata": {
        "id": "sc4q0dqvviUM"
      },
      "source": [
        "tot = list()\n",
        "l1 =[];l2 =[]\n",
        "for j in Y_set:\n",
        "  rvector = X_set.union(j)\n",
        "  for w in rvector:\n",
        "    if w in X_set: l1.append(1) # create a vector\n",
        "    else: l1.append(0)\n",
        "    if w in j: l2.append(1)\n",
        "    else: l2.append(0)\n",
        "  c = 0\n",
        "\n",
        "  # cosine formula\n",
        "  for i in range(len(rvector)):\n",
        "      c+= l1[i]*l2[i]\n",
        "  cosine = c / float((sum(l1)*sum(l2))**0.5)\n",
        "  tot.append(cosine)\n",
        "\n"
      ],
      "execution_count": null,
      "outputs": []
    },
    {
      "cell_type": "code",
      "metadata": {
        "colab": {
          "base_uri": "https://localhost:8080/"
        },
        "id": "h9Gt364czEka",
        "outputId": "3495ded6-c419-4a80-8117-5e25e2708f23"
      },
      "source": [
        "print(tot)"
      ],
      "execution_count": null,
      "outputs": [
        {
          "output_type": "stream",
          "text": [
            "[0.26967994498529685, 0.14907119849998599, 0.10327955589886445, 0.07559289460184544, 0.1524001524002286, 0.044946657497549475, 0.039567129412446535, 0.036037498507822355, 0.03253000243161777, 0.029488391230979426]\n"
          ],
          "name": "stdout"
        }
      ]
    },
    {
      "cell_type": "code",
      "metadata": {
        "colab": {
          "base_uri": "https://localhost:8080/"
        },
        "id": "cZ_MrPqU1oEE",
        "outputId": "009c7490-bff8-4db1-e816-18ced2c1f498"
      },
      "source": [
        "for i in tot:\n",
        "  if i > 0.29:\n",
        "    print(\"Real\")\n",
        "    break;\n",
        "else: print(\"Fake\")"
      ],
      "execution_count": null,
      "outputs": [
        {
          "output_type": "stream",
          "text": [
            "Fake\n"
          ],
          "name": "stdout"
        }
      ]
    }
  ]
}